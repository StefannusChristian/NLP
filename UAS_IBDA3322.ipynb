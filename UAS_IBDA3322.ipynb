{
 "cells": [
  {
   "cell_type": "markdown",
   "metadata": {},
   "source": [
    "<!DOCTYPE html>\n",
    "<html lang=\"en\">\n",
    "    <head>\n",
    "        <meta charset=\"UTF-8\" />\n",
    "        <meta http-equiv=\"X-UA-Compatible\" content=\"IE=edge\" />\n",
    "        <meta name=\"viewport\" content=\"width=device-width, initial-scale=1.0\" />\n",
    "        <title>UAS NLP</title>\n",
    "        <style>\n",
    "            body {\n",
    "                font-family: Arial, sans-serif;\n",
    "                background-color: #f0f0f0;\n",
    "                margin: 0;\n",
    "                padding: 0;\n",
    "            }\n",
    "            .container {\n",
    "                text-align: center;\n",
    "                margin-top: 50px;\n",
    "            }\n",
    "            h1 {\n",
    "                color: #fff; /* Adjusted color for dark mode */\n",
    "                font-size: 36px;\n",
    "                margin-bottom: 10px;\n",
    "            }\n",
    "            h2 {\n",
    "                color: #ccc; /* Adjusted color for dark mode */\n",
    "                font-size: 24px;\n",
    "                margin-bottom: 20px;\n",
    "            }\n",
    "            .members {\n",
    "                font-size: 18px;\n",
    "                line-height: 1.6;\n",
    "                margin-top: 20px;\n",
    "            }\n",
    "            .member {\n",
    "                display: block;\n",
    "                margin-bottom: 10px;\n",
    "            }\n",
    "        </style>\n",
    "    </head>\n",
    "    <body>\n",
    "        <div class=\"container\">\n",
    "            <h1>Ujian Akhir Semester</h1>\n",
    "            <h2>IBDA3322 / Natural Language Processing</h2>\n",
    "            <p class=\"members\">\n",
    "                <span class=\"member\">Jennifer Atalya (202000208)</span>\n",
    "                <span class=\"member\">Renata Valencia (202001021)</span>\n",
    "                <span class=\"member\">Stefannus Christian (202000138)</span>\n",
    "            </p>\n",
    "        </div>\n",
    "    </body>\n",
    "</html>"
   ]
  },
  {
   "cell_type": "markdown",
   "metadata": {},
   "source": [
    "# Import Libraries"
   ]
  },
  {
   "cell_type": "code",
   "execution_count": 1,
   "metadata": {},
   "outputs": [],
   "source": [
    "# Import libraries\n",
    "from transformers import (\n",
    "    MBart50TokenizerFast,\n",
    "    MBartForConditionalGeneration,\n",
    "    Seq2SeqTrainingArguments,\n",
    "    DataCollatorForSeq2Seq,\n",
    "    Seq2SeqTrainer,\n",
    ")\n",
    "import csv\n",
    "import re\n",
    "import os\n",
    "import matplotlib.pyplot as plt\n",
    "import pandas as pd\n",
    "import numpy as np\n",
    "import pickle\n",
    "import evaluate\n",
    "from datasets import load_dataset\n",
    "import warnings\n",
    "warnings.filterwarnings('ignore')"
   ]
  },
  {
   "cell_type": "markdown",
   "metadata": {},
   "source": [
    "# Define Global Variables"
   ]
  },
  {
   "cell_type": "code",
   "execution_count": 2,
   "metadata": {},
   "outputs": [
    {
     "name": "stdout",
     "output_type": "stream",
     "text": [
      "RUNNING IN TRAIN MODE...\n",
      "Will save training results csv to ./training_results/training_results.csv\n",
      "Will save log results (log_history, bleu_log, meteor_log, eval_log) to ./training_results/log.pkl\n"
     ]
    }
   ],
   "source": [
    "# Define training parameters\n",
    "TRAIN: bool = False # Set to True to train the model\n",
    "SEED = 42  # Random seed for reproducibility\n",
    "\n",
    "# Define model and data paths\n",
    "MODEL_PATH = \"model/mbart-large-50-one-to-many-mmt-finetuned-en-to-id\"\n",
    "PREFIX = \"\"  # Prefix to add before source language text\n",
    "SOURCE_LANG = \"en\"  # Source language\n",
    "TARGET_LANG = \"id\"  # Target language\n",
    "MAX_INPUT_LENGTH = 128  # Maximum length of input sequence\n",
    "MAX_TARGET_LENGTH = 128  # Maximum length of target sequence\n",
    "\n",
    "TRAINING_RESULTS_DIRECTORY_BASE_PATH = \"./training_results/\"\n",
    "TRAINING_RESULTS_FILENAME = \"training_results.csv\"\n",
    "LOG_RESULTS_FILENAME = \"log.pkl\"\n",
    "\n",
    "TRAINING_RESULTS_PATH = os.path.join(TRAINING_RESULTS_DIRECTORY_BASE_PATH, TRAINING_RESULTS_FILENAME)\n",
    "LOG_RESULTS_PATH = os.path.join(TRAINING_RESULTS_DIRECTORY_BASE_PATH, LOG_RESULTS_FILENAME)\n",
    "\n",
    "RAW_DATASETS_PATH = \"raw_datasets.pkl\"\n",
    "\n",
    "print(\"RUNNING IN TRAIN MODE...\")\n",
    "print(f'Will save training results csv to {TRAINING_RESULTS_PATH}')\n",
    "print(f'Will save log results (log_history, bleu_log, meteor_log, eval_log) to {LOG_RESULTS_PATH}')"
   ]
  },
  {
   "cell_type": "markdown",
   "metadata": {},
   "source": [
    "# Load Raw Datasets"
   ]
  },
  {
   "cell_type": "code",
   "execution_count": 3,
   "metadata": {},
   "outputs": [
    {
     "data": {
      "text/plain": [
       "DatasetDict({\n",
       "    test: Dataset({\n",
       "        features: ['translation'],\n",
       "        num_rows: 2000\n",
       "    })\n",
       "    train: Dataset({\n",
       "        features: ['translation'],\n",
       "        num_rows: 1000000\n",
       "    })\n",
       "    validation: Dataset({\n",
       "        features: ['translation'],\n",
       "        num_rows: 2000\n",
       "    })\n",
       "})"
      ]
     },
     "metadata": {},
     "output_type": "display_data"
    }
   ],
   "source": [
    "# Load dataset\n",
    "model_mbart = 'facebook/mbart-large-50-one-to-many-mmt'\n",
    "if not os.path.exists(RAW_DATASETS_PATH):\n",
    "    raw_datasets = load_dataset(\"Helsinki-NLP/opus-100\", \"en-id\")\n",
    "    with open(RAW_DATASETS_PATH, \"wb\") as f:\n",
    "        pickle.dump(raw_datasets, f)\n",
    "\n",
    "else:\n",
    "    # Load the raw datasets using pickle\n",
    "    with open(RAW_DATASETS_PATH, \"rb\") as f:\n",
    "        raw_datasets = pickle.load(f)\n",
    "\n",
    "display(raw_datasets)  # View dataset information"
   ]
  },
  {
   "cell_type": "code",
   "execution_count": 4,
   "metadata": {},
   "outputs": [],
   "source": [
    "# Load tokenizer for the pre-trained model\n",
    "tokenizer = MBart50TokenizerFast.from_pretrained(\n",
    "    model_mbart, src_lang=\"en_XX\", tgt_lang=\"id_ID\"\n",
    ")"
   ]
  },
  {
   "cell_type": "code",
   "execution_count": 5,
   "metadata": {},
   "outputs": [],
   "source": [
    "def lowercase_text(text: str) -> str:\n",
    "    text = text.lower()\n",
    "    return text\n",
    "\n",
    "def remove_extra_spaces(text :str) -> str:\n",
    "    \"\"\"\n",
    "    Removes extra spaces from a string using regular expression.\n",
    "\n",
    "    Args:\n",
    "    - text (str): The input text with extra spaces.\n",
    "\n",
    "    Returns:\n",
    "    - str: The text with extra spaces removed.\n",
    "    \"\"\"\n",
    "    # Use regular expression to substitute multiple spaces with a single space\n",
    "    cleaned_text = re.sub(' +', ' ', text)\n",
    "    return cleaned_text.strip()\n",
    "\n",
    "def preprocess_function(examples):\n",
    "    \"\"\"\n",
    "    Preprocess data examples:\n",
    "        - Add prefix to source language text\n",
    "        - Lowercase source language text\n",
    "        - Remove extra spaces from source and target language text\n",
    "        - Encode text with tokenizer\n",
    "    \"\"\"\n",
    "    # Lowercase source language text and remove extra spaces\n",
    "    inputs = [PREFIX + lowercase_text(remove_extra_spaces(ex[SOURCE_LANG])) for ex in examples[\"translation\"]]\n",
    "    # Lowercase target language text and remove extra spaces\n",
    "    targets = [lowercase_text(remove_extra_spaces(ex[TARGET_LANG])) for ex in examples[\"translation\"]]\n",
    "\n",
    "    model_inputs = tokenizer(\n",
    "        inputs, max_length=MAX_INPUT_LENGTH, truncation=True)\n",
    "\n",
    "    # Set tokenizer for target language\n",
    "    with tokenizer.as_target_tokenizer():\n",
    "        labels = tokenizer(\n",
    "            targets, max_length=MAX_TARGET_LENGTH, truncation=True)\n",
    "    model_inputs[\"labels\"] = labels[\"input_ids\"]\n",
    "    return model_inputs"
   ]
  },
  {
   "cell_type": "code",
   "execution_count": 6,
   "metadata": {},
   "outputs": [
    {
     "data": {
      "text/plain": [
       "'the quick brown fox'"
      ]
     },
     "execution_count": 6,
     "metadata": {},
     "output_type": "execute_result"
    }
   ],
   "source": [
    "lowercase_text(remove_extra_spaces(\"  The     quICk brown    FOX \"))"
   ]
  },
  {
   "cell_type": "code",
   "execution_count": 7,
   "metadata": {},
   "outputs": [
    {
     "name": "stdout",
     "output_type": "stream",
     "text": [
      "Number of train tokenized data: 1000000\n",
      "Number of eval tokenized data: 2000\n",
      "\n",
      "Number of small_train_dataset 250000\n"
     ]
    }
   ],
   "source": [
    "# Preprocess dataset\n",
    "tokenized_datasets = raw_datasets.map(preprocess_function, batched=True)\n",
    "\n",
    "# Split datasets into train and validation sets\n",
    "train_tokenized_dataset = tokenized_datasets[\"train\"]\n",
    "eval_tokenized_dataset = tokenized_datasets[\"validation\"]\n",
    "number_of_train_tokenized_data = len(train_tokenized_dataset)\n",
    "number_of_eval_tokenized_data = len(eval_tokenized_dataset)\n",
    "print(f\"Number of train tokenized data: {number_of_train_tokenized_data}\")\n",
    "print(f\"Number of eval tokenized data: {number_of_eval_tokenized_data}\\n\")\n",
    "\n",
    "PERCENTAGE_OF_TRAIN_TOKENIZED_DATA_TO_FINEDTUNED = 0.25\n",
    "NUMBER_OF_TRAINING_DATA_TO_FINETUNED = int(\n",
    "    PERCENTAGE_OF_TRAIN_TOKENIZED_DATA_TO_FINEDTUNED * number_of_train_tokenized_data\n",
    ")  # Limit data used for fine-tuning\n",
    "\n",
    "# Select a small subset of data for fine-tuning (for faster training)\n",
    "small_train_dataset = train_tokenized_dataset.shuffle(\n",
    "    seed=SEED).select(range(NUMBER_OF_TRAINING_DATA_TO_FINETUNED))\n",
    "shuffled_eval_dataset = eval_tokenized_dataset.shuffle(seed=SEED)\n",
    "\n",
    "print(f\"Number of small_train_dataset {len(small_train_dataset)}\")"
   ]
  },
  {
   "cell_type": "code",
   "execution_count": 8,
   "metadata": {},
   "outputs": [],
   "source": [
    "# Load pre-trained model (make sure to use 'cuda' for GPU training)\n",
    "model = MBartForConditionalGeneration.from_pretrained(model_mbart).cuda()"
   ]
  },
  {
   "cell_type": "code",
   "execution_count": 9,
   "metadata": {},
   "outputs": [
    {
     "name": "stdout",
     "output_type": "stream",
     "text": [
      "freezes 198 layers\n"
     ]
    }
   ],
   "source": [
    "# Freeze all layers except the decoder's last layers\n",
    "count = 0\n",
    "for param in model.get_encoder().parameters():\n",
    "    param.requires_grad = False\n",
    "    count += 1\n",
    "\n",
    "print(f\"freezes {count} layers\")"
   ]
  },
  {
   "cell_type": "code",
   "execution_count": 10,
   "metadata": {},
   "outputs": [],
   "source": [
    "# Define training hyperparameters\n",
    "hyperparameters = {\n",
    "    'learning_rate': 2e-5, # Default is 5e-5\n",
    "    'batch_size': 16, # Default is 8\n",
    "    'num_epochs': 5 # Default is 3\n",
    "}\n",
    "\n",
    "# Define training arguments (`Seq2SeqTrainingArguments`)\n",
    "args = Seq2SeqTrainingArguments(\n",
    "    # Create a name for your fine-tuned model\n",
    "    MODEL_PATH,\n",
    "    # Evaluate the model after every epoch\n",
    "    evaluation_strategy=\"epoch\",\n",
    "    # Save the model after every epoch\n",
    "    save_strategy=\"epoch\",\n",
    "    # Set learning rate from hyperparameters\n",
    "    learning_rate=hyperparameters[\"learning_rate\"],\n",
    "    # Batch size for training on a single device\n",
    "    per_device_train_batch_size=hyperparameters[\"batch_size\"],\n",
    "    # Batch size for evaluation on a single device\n",
    "    per_device_eval_batch_size=hyperparameters[\"batch_size\"],\n",
    "    # Weight decay to avoid overfitting\n",
    "    weight_decay=0.01,  # Default is 0\n",
    "    # Limit number of saved models during training\n",
    "    save_total_limit=hyperparameters[\"num_epochs\"],\n",
    "    # Set the total number of training epochs\n",
    "    num_train_epochs=hyperparameters[\"num_epochs\"],\n",
    "    # Generate text with beam search during evaluation\n",
    "    predict_with_generate=True,\n",
    "    load_best_model_at_end=True,\n",
    ")"
   ]
  },
  {
   "cell_type": "code",
   "execution_count": 11,
   "metadata": {},
   "outputs": [],
   "source": [
    "# Create a data collator to prepare batches for training and evaluation\n",
    "data_collator = DataCollatorForSeq2Seq(tokenizer, model=model)"
   ]
  },
  {
   "cell_type": "code",
   "execution_count": 12,
   "metadata": {},
   "outputs": [
    {
     "name": "stderr",
     "output_type": "stream",
     "text": [
      "[nltk_data] Downloading package wordnet to\n",
      "[nltk_data]     C:\\Users\\user\\AppData\\Roaming\\nltk_data...\n",
      "[nltk_data]   Package wordnet is already up-to-date!\n",
      "[nltk_data] Downloading package punkt to\n",
      "[nltk_data]     C:\\Users\\user\\AppData\\Roaming\\nltk_data...\n",
      "[nltk_data]   Package punkt is already up-to-date!\n",
      "[nltk_data] Downloading package omw-1.4 to\n",
      "[nltk_data]     C:\\Users\\user\\AppData\\Roaming\\nltk_data...\n",
      "[nltk_data]   Package omw-1.4 is already up-to-date!\n"
     ]
    }
   ],
   "source": [
    "# Load evaluation metrics: BLEU score and METEOR\n",
    "metric = evaluate.load(\"sacrebleu\")\n",
    "meteor = evaluate.load('meteor')\n",
    "\n",
    "def postprocess_text(preds, labels):\n",
    "    preds = [pred.strip() for pred in preds]\n",
    "    labels = [[label.strip()] for label in labels]\n",
    "    return preds, labels\n",
    "\n",
    "def compute_metrics(eval_preds):\n",
    "    preds, labels = eval_preds\n",
    "    if isinstance(preds, tuple):\n",
    "        preds = preds[0]\n",
    "    decoded_preds = tokenizer.batch_decode(preds, skip_special_tokens=True)\n",
    "    # Replace -100 in the labels as we can't decode them.\n",
    "    labels = np.where(labels != -100, labels, tokenizer.pad_token_id)\n",
    "    decoded_labels = tokenizer.batch_decode(labels, skip_special_tokens=True)\n",
    "    # Some simple post-processing\n",
    "    decoded_preds, decoded_labels = postprocess_text(\n",
    "        decoded_preds, decoded_labels)\n",
    "    result = metric.compute(predictions=decoded_preds,\n",
    "                            references=decoded_labels)\n",
    "    meteor_result = meteor.compute(\n",
    "        predictions=decoded_preds, references=decoded_labels)\n",
    "    prediction_lens = [np.count_nonzero(\n",
    "        pred != tokenizer.pad_token_id) for pred in preds]\n",
    "    result = {'bleu': result['score']}\n",
    "    result[\"gen_len\"] = np.mean(prediction_lens)\n",
    "    result[\"meteor\"] = meteor_result[\"meteor\"]\n",
    "    result = {k: round(v, 4) for k, v in result.items()}\n",
    "    return result"
   ]
  },
  {
   "cell_type": "code",
   "execution_count": 13,
   "metadata": {},
   "outputs": [
    {
     "data": {
      "application/vnd.jupyter.widget-view+json": {
       "model_id": "915daeb4740c47209664aeedb9be75b1",
       "version_major": 2,
       "version_minor": 0
      },
      "text/plain": [
       "  0%|          | 0/78125 [00:00<?, ?it/s]"
      ]
     },
     "metadata": {},
     "output_type": "display_data"
    },
    {
     "name": "stdout",
     "output_type": "stream",
     "text": [
      "{'loss': 2.0372, 'grad_norm': 3.5430939197540283, 'learning_rate': 1.9872000000000002e-05, 'epoch': 0.03}\n",
      "{'loss': 1.8615, 'grad_norm': 2.874136447906494, 'learning_rate': 1.9744e-05, 'epoch': 0.06}\n",
      "{'loss': 1.8566, 'grad_norm': 3.3288049697875977, 'learning_rate': 1.9616000000000003e-05, 'epoch': 0.1}\n",
      "{'loss': 1.7799, 'grad_norm': 3.558734893798828, 'learning_rate': 1.9488000000000004e-05, 'epoch': 0.13}\n",
      "{'loss': 1.745, 'grad_norm': 2.5975122451782227, 'learning_rate': 1.936e-05, 'epoch': 0.16}\n",
      "{'loss': 1.7502, 'grad_norm': 2.7929723262786865, 'learning_rate': 1.9232e-05, 'epoch': 0.19}\n",
      "{'loss': 1.6897, 'grad_norm': 3.0325419902801514, 'learning_rate': 1.9104000000000002e-05, 'epoch': 0.22}\n",
      "{'loss': 1.7424, 'grad_norm': 3.097864866256714, 'learning_rate': 1.8976000000000003e-05, 'epoch': 0.26}\n",
      "{'loss': 1.7015, 'grad_norm': 2.708224296569824, 'learning_rate': 1.8848000000000003e-05, 'epoch': 0.29}\n",
      "{'loss': 1.7059, 'grad_norm': 3.0956945419311523, 'learning_rate': 1.8720000000000004e-05, 'epoch': 0.32}\n",
      "{'loss': 1.6575, 'grad_norm': 2.4792683124542236, 'learning_rate': 1.8592e-05, 'epoch': 0.35}\n",
      "{'loss': 1.6818, 'grad_norm': 3.0329909324645996, 'learning_rate': 1.8464e-05, 'epoch': 0.38}\n",
      "{'loss': 1.6583, 'grad_norm': 2.5759165287017822, 'learning_rate': 1.8336000000000002e-05, 'epoch': 0.42}\n",
      "{'loss': 1.6341, 'grad_norm': 2.0087389945983887, 'learning_rate': 1.8208000000000003e-05, 'epoch': 0.45}\n",
      "{'loss': 1.6187, 'grad_norm': 2.425278425216675, 'learning_rate': 1.8080000000000003e-05, 'epoch': 0.48}\n",
      "{'loss': 1.633, 'grad_norm': 3.2815961837768555, 'learning_rate': 1.7952e-05, 'epoch': 0.51}\n",
      "{'loss': 1.6554, 'grad_norm': 2.227618932723999, 'learning_rate': 1.7824e-05, 'epoch': 0.54}\n",
      "{'loss': 1.6232, 'grad_norm': 3.515868902206421, 'learning_rate': 1.7696e-05, 'epoch': 0.58}\n",
      "{'loss': 1.6297, 'grad_norm': 2.665076971054077, 'learning_rate': 1.7568000000000002e-05, 'epoch': 0.61}\n",
      "{'loss': 1.616, 'grad_norm': 2.4979746341705322, 'learning_rate': 1.7440000000000002e-05, 'epoch': 0.64}\n",
      "{'loss': 1.6392, 'grad_norm': 2.3400330543518066, 'learning_rate': 1.7312000000000003e-05, 'epoch': 0.67}\n",
      "{'loss': 1.6397, 'grad_norm': 2.8001251220703125, 'learning_rate': 1.7184e-05, 'epoch': 0.7}\n",
      "{'loss': 1.626, 'grad_norm': 2.368159294128418, 'learning_rate': 1.7056e-05, 'epoch': 0.74}\n",
      "{'loss': 1.6015, 'grad_norm': 2.411062717437744, 'learning_rate': 1.6928e-05, 'epoch': 0.77}\n",
      "{'loss': 1.6102, 'grad_norm': 2.1803319454193115, 'learning_rate': 1.6800000000000002e-05, 'epoch': 0.8}\n",
      "{'loss': 1.5999, 'grad_norm': 2.9432778358459473, 'learning_rate': 1.6672000000000002e-05, 'epoch': 0.83}\n",
      "{'loss': 1.6189, 'grad_norm': 2.7110824584960938, 'learning_rate': 1.6544000000000003e-05, 'epoch': 0.86}\n",
      "{'loss': 1.6074, 'grad_norm': 2.0119218826293945, 'learning_rate': 1.6416e-05, 'epoch': 0.9}\n",
      "{'loss': 1.5835, 'grad_norm': 2.358748435974121, 'learning_rate': 1.6288e-05, 'epoch': 0.93}\n",
      "{'loss': 1.5882, 'grad_norm': 2.899491548538208, 'learning_rate': 1.616e-05, 'epoch': 0.96}\n",
      "{'loss': 1.5852, 'grad_norm': 2.5869123935699463, 'learning_rate': 1.6032e-05, 'epoch': 0.99}\n"
     ]
    },
    {
     "data": {
      "application/vnd.jupyter.widget-view+json": {
       "model_id": "2efded6d78fc47f4a5b0266cec9eecc1",
       "version_major": 2,
       "version_minor": 0
      },
      "text/plain": [
       "  0%|          | 0/125 [00:00<?, ?it/s]"
      ]
     },
     "metadata": {},
     "output_type": "display_data"
    },
    {
     "name": "stderr",
     "output_type": "stream",
     "text": [
      "Some non-default generation parameters are set in the model config. These should go into a GenerationConfig file (https://huggingface.co/docs/transformers/generation_strategies#save-a-custom-decoding-strategy-with-your-model) instead. This warning will be raised to an exception in v4.41.\n",
      "Non-default generation parameters: {'max_length': 200, 'early_stopping': True, 'num_beams': 5, 'forced_eos_token_id': 2}\n"
     ]
    },
    {
     "name": "stdout",
     "output_type": "stream",
     "text": [
      "{'eval_loss': 1.5900832414627075, 'eval_bleu': 29.5033, 'eval_gen_len': 13.011, 'eval_meteor': 0.5476, 'eval_runtime': 90.5081, 'eval_samples_per_second': 22.097, 'eval_steps_per_second': 1.381, 'epoch': 1.0}\n",
      "{'loss': 1.4832, 'grad_norm': 2.9025018215179443, 'learning_rate': 1.5904000000000002e-05, 'epoch': 1.02}\n",
      "{'loss': 1.4659, 'grad_norm': 2.3915112018585205, 'learning_rate': 1.5776e-05, 'epoch': 1.06}\n",
      "{'loss': 1.4338, 'grad_norm': 2.42067289352417, 'learning_rate': 1.5648e-05, 'epoch': 1.09}\n",
      "{'loss': 1.4919, 'grad_norm': 2.101248264312744, 'learning_rate': 1.552e-05, 'epoch': 1.12}\n",
      "{'loss': 1.4461, 'grad_norm': 2.8757541179656982, 'learning_rate': 1.5392e-05, 'epoch': 1.15}\n",
      "{'loss': 1.4793, 'grad_norm': 2.490623712539673, 'learning_rate': 1.5264e-05, 'epoch': 1.18}\n",
      "{'loss': 1.4726, 'grad_norm': 2.282426118850708, 'learning_rate': 1.5136000000000002e-05, 'epoch': 1.22}\n",
      "{'loss': 1.4333, 'grad_norm': 1.969070315361023, 'learning_rate': 1.5008000000000001e-05, 'epoch': 1.25}\n",
      "{'loss': 1.4326, 'grad_norm': 2.5636277198791504, 'learning_rate': 1.4880000000000002e-05, 'epoch': 1.28}\n",
      "{'loss': 1.4479, 'grad_norm': 2.2638800144195557, 'learning_rate': 1.4752000000000002e-05, 'epoch': 1.31}\n",
      "{'loss': 1.4464, 'grad_norm': 2.5019147396087646, 'learning_rate': 1.4624000000000001e-05, 'epoch': 1.34}\n",
      "{'loss': 1.4638, 'grad_norm': 2.621361255645752, 'learning_rate': 1.4496000000000001e-05, 'epoch': 1.38}\n",
      "{'loss': 1.4456, 'grad_norm': 3.429600954055786, 'learning_rate': 1.4368000000000002e-05, 'epoch': 1.41}\n",
      "{'loss': 1.4145, 'grad_norm': 2.5071709156036377, 'learning_rate': 1.4240000000000001e-05, 'epoch': 1.44}\n",
      "{'loss': 1.44, 'grad_norm': 2.391514301300049, 'learning_rate': 1.4112000000000001e-05, 'epoch': 1.47}\n",
      "{'loss': 1.4737, 'grad_norm': 3.2297003269195557, 'learning_rate': 1.3984000000000002e-05, 'epoch': 1.5}\n",
      "{'loss': 1.4335, 'grad_norm': 2.6877636909484863, 'learning_rate': 1.3856e-05, 'epoch': 1.54}\n",
      "{'loss': 1.4409, 'grad_norm': 2.622436761856079, 'learning_rate': 1.3728000000000001e-05, 'epoch': 1.57}\n",
      "{'loss': 1.4083, 'grad_norm': 2.668086290359497, 'learning_rate': 1.3600000000000002e-05, 'epoch': 1.6}\n",
      "{'loss': 1.4393, 'grad_norm': 2.3598766326904297, 'learning_rate': 1.3472e-05, 'epoch': 1.63}\n",
      "{'loss': 1.4378, 'grad_norm': 2.504410982131958, 'learning_rate': 1.3344000000000001e-05, 'epoch': 1.66}\n",
      "{'loss': 1.434, 'grad_norm': 3.5991315841674805, 'learning_rate': 1.3216000000000002e-05, 'epoch': 1.7}\n",
      "{'loss': 1.4104, 'grad_norm': 3.621342897415161, 'learning_rate': 1.3088e-05, 'epoch': 1.73}\n",
      "{'loss': 1.42, 'grad_norm': 2.4412994384765625, 'learning_rate': 1.2960000000000001e-05, 'epoch': 1.76}\n",
      "{'loss': 1.4392, 'grad_norm': 2.5641093254089355, 'learning_rate': 1.2832e-05, 'epoch': 1.79}\n",
      "{'loss': 1.4221, 'grad_norm': 2.5687358379364014, 'learning_rate': 1.2704e-05, 'epoch': 1.82}\n",
      "{'loss': 1.4403, 'grad_norm': 3.4142262935638428, 'learning_rate': 1.2576000000000001e-05, 'epoch': 1.86}\n",
      "{'loss': 1.4055, 'grad_norm': 2.443976879119873, 'learning_rate': 1.2448e-05, 'epoch': 1.89}\n",
      "{'loss': 1.4283, 'grad_norm': 3.0430307388305664, 'learning_rate': 1.232e-05, 'epoch': 1.92}\n",
      "{'loss': 1.4191, 'grad_norm': 2.2719566822052, 'learning_rate': 1.2192000000000001e-05, 'epoch': 1.95}\n",
      "{'loss': 1.4298, 'grad_norm': 2.040045738220215, 'learning_rate': 1.2064e-05, 'epoch': 1.98}\n"
     ]
    },
    {
     "data": {
      "application/vnd.jupyter.widget-view+json": {
       "model_id": "c0c01ac22de64ff9ad2f8b58f7501622",
       "version_major": 2,
       "version_minor": 0
      },
      "text/plain": [
       "  0%|          | 0/125 [00:00<?, ?it/s]"
      ]
     },
     "metadata": {},
     "output_type": "display_data"
    },
    {
     "name": "stderr",
     "output_type": "stream",
     "text": [
      "Some non-default generation parameters are set in the model config. These should go into a GenerationConfig file (https://huggingface.co/docs/transformers/generation_strategies#save-a-custom-decoding-strategy-with-your-model) instead. This warning will be raised to an exception in v4.41.\n",
      "Non-default generation parameters: {'max_length': 200, 'early_stopping': True, 'num_beams': 5, 'forced_eos_token_id': 2}\n"
     ]
    },
    {
     "name": "stdout",
     "output_type": "stream",
     "text": [
      "{'eval_loss': 1.5434921979904175, 'eval_bleu': 29.8766, 'eval_gen_len': 12.9245, 'eval_meteor': 0.5464, 'eval_runtime': 84.5154, 'eval_samples_per_second': 23.664, 'eval_steps_per_second': 1.479, 'epoch': 2.0}\n",
      "{'loss': 1.3722, 'grad_norm': 3.145627021789551, 'learning_rate': 1.1936e-05, 'epoch': 2.02}\n",
      "{'loss': 1.3006, 'grad_norm': 2.8772222995758057, 'learning_rate': 1.1808000000000001e-05, 'epoch': 2.05}\n",
      "{'loss': 1.2858, 'grad_norm': 2.424274444580078, 'learning_rate': 1.168e-05, 'epoch': 2.08}\n",
      "{'loss': 1.3361, 'grad_norm': 2.584812879562378, 'learning_rate': 1.1552e-05, 'epoch': 2.11}\n",
      "{'loss': 1.3196, 'grad_norm': 2.6584482192993164, 'learning_rate': 1.1424000000000001e-05, 'epoch': 2.14}\n",
      "{'loss': 1.2914, 'grad_norm': 2.9131662845611572, 'learning_rate': 1.1296e-05, 'epoch': 2.18}\n",
      "{'loss': 1.2861, 'grad_norm': 4.3808770179748535, 'learning_rate': 1.1168e-05, 'epoch': 2.21}\n",
      "{'loss': 1.308, 'grad_norm': 2.754674196243286, 'learning_rate': 1.1040000000000001e-05, 'epoch': 2.24}\n",
      "{'loss': 1.2922, 'grad_norm': 3.4268181324005127, 'learning_rate': 1.0912e-05, 'epoch': 2.27}\n",
      "{'loss': 1.3267, 'grad_norm': 2.1595306396484375, 'learning_rate': 1.0784e-05, 'epoch': 2.3}\n",
      "{'loss': 1.319, 'grad_norm': 4.372312068939209, 'learning_rate': 1.0656000000000003e-05, 'epoch': 2.34}\n",
      "{'loss': 1.3283, 'grad_norm': 2.468735933303833, 'learning_rate': 1.0528e-05, 'epoch': 2.37}\n",
      "{'loss': 1.3082, 'grad_norm': 3.031761407852173, 'learning_rate': 1.04e-05, 'epoch': 2.4}\n",
      "{'loss': 1.3196, 'grad_norm': 2.9780256748199463, 'learning_rate': 1.0272e-05, 'epoch': 2.43}\n",
      "{'loss': 1.3114, 'grad_norm': 4.183818817138672, 'learning_rate': 1.0144e-05, 'epoch': 2.46}\n",
      "{'loss': 1.3275, 'grad_norm': 3.0117647647857666, 'learning_rate': 1.0016000000000002e-05, 'epoch': 2.5}\n",
      "{'loss': 1.2969, 'grad_norm': 2.8713109493255615, 'learning_rate': 9.888000000000001e-06, 'epoch': 2.53}\n",
      "{'loss': 1.3377, 'grad_norm': 2.3814690113067627, 'learning_rate': 9.760000000000001e-06, 'epoch': 2.56}\n",
      "{'loss': 1.3208, 'grad_norm': 3.1403775215148926, 'learning_rate': 9.632e-06, 'epoch': 2.59}\n",
      "{'loss': 1.2886, 'grad_norm': 2.5950610637664795, 'learning_rate': 9.504e-06, 'epoch': 2.62}\n",
      "{'loss': 1.319, 'grad_norm': 3.467163324356079, 'learning_rate': 9.376000000000001e-06, 'epoch': 2.66}\n",
      "{'loss': 1.2979, 'grad_norm': 3.627821207046509, 'learning_rate': 9.248e-06, 'epoch': 2.69}\n",
      "{'loss': 1.2848, 'grad_norm': 2.4929816722869873, 'learning_rate': 9.12e-06, 'epoch': 2.72}\n",
      "{'loss': 1.2945, 'grad_norm': 2.5406785011291504, 'learning_rate': 8.992000000000001e-06, 'epoch': 2.75}\n",
      "{'loss': 1.2991, 'grad_norm': 3.1872079372406006, 'learning_rate': 8.864e-06, 'epoch': 2.78}\n",
      "{'loss': 1.3194, 'grad_norm': 3.515925168991089, 'learning_rate': 8.736e-06, 'epoch': 2.82}\n",
      "{'loss': 1.3001, 'grad_norm': 2.9417805671691895, 'learning_rate': 8.608000000000001e-06, 'epoch': 2.85}\n",
      "{'loss': 1.3023, 'grad_norm': 2.6706461906433105, 'learning_rate': 8.48e-06, 'epoch': 2.88}\n",
      "{'loss': 1.2945, 'grad_norm': 3.210543155670166, 'learning_rate': 8.352e-06, 'epoch': 2.91}\n",
      "{'loss': 1.3099, 'grad_norm': 2.6839938163757324, 'learning_rate': 8.224000000000001e-06, 'epoch': 2.94}\n",
      "{'loss': 1.3043, 'grad_norm': 2.8091471195220947, 'learning_rate': 8.096e-06, 'epoch': 2.98}\n"
     ]
    },
    {
     "data": {
      "application/vnd.jupyter.widget-view+json": {
       "model_id": "4cd8dac1aa484342af8f48b49e092120",
       "version_major": 2,
       "version_minor": 0
      },
      "text/plain": [
       "  0%|          | 0/125 [00:00<?, ?it/s]"
      ]
     },
     "metadata": {},
     "output_type": "display_data"
    },
    {
     "name": "stderr",
     "output_type": "stream",
     "text": [
      "Some non-default generation parameters are set in the model config. These should go into a GenerationConfig file (https://huggingface.co/docs/transformers/generation_strategies#save-a-custom-decoding-strategy-with-your-model) instead. This warning will be raised to an exception in v4.41.\n",
      "Non-default generation parameters: {'max_length': 200, 'early_stopping': True, 'num_beams': 5, 'forced_eos_token_id': 2}\n"
     ]
    },
    {
     "name": "stdout",
     "output_type": "stream",
     "text": [
      "{'eval_loss': 1.5395480394363403, 'eval_bleu': 30.6268, 'eval_gen_len': 12.768, 'eval_meteor': 0.5476, 'eval_runtime': 83.291, 'eval_samples_per_second': 24.012, 'eval_steps_per_second': 1.501, 'epoch': 3.0}\n",
      "{'loss': 1.2861, 'grad_norm': 2.066720724105835, 'learning_rate': 7.968e-06, 'epoch': 3.01}\n",
      "{'loss': 1.2123, 'grad_norm': 2.90891432762146, 'learning_rate': 7.840000000000001e-06, 'epoch': 3.04}\n",
      "{'loss': 1.2342, 'grad_norm': 3.7468605041503906, 'learning_rate': 7.712e-06, 'epoch': 3.07}\n",
      "{'loss': 1.2133, 'grad_norm': 3.4471981525421143, 'learning_rate': 7.5840000000000006e-06, 'epoch': 3.1}\n",
      "{'loss': 1.2212, 'grad_norm': 2.1528632640838623, 'learning_rate': 7.456000000000001e-06, 'epoch': 3.14}\n",
      "{'loss': 1.1927, 'grad_norm': 3.361150026321411, 'learning_rate': 7.328000000000001e-06, 'epoch': 3.17}\n",
      "{'loss': 1.2281, 'grad_norm': 3.3433289527893066, 'learning_rate': 7.2000000000000005e-06, 'epoch': 3.2}\n",
      "{'loss': 1.211, 'grad_norm': 3.7985804080963135, 'learning_rate': 7.072000000000001e-06, 'epoch': 3.23}\n",
      "{'loss': 1.1919, 'grad_norm': 4.245264053344727, 'learning_rate': 6.944000000000001e-06, 'epoch': 3.26}\n",
      "{'loss': 1.2518, 'grad_norm': 3.229672431945801, 'learning_rate': 6.8160000000000005e-06, 'epoch': 3.3}\n",
      "{'loss': 1.2076, 'grad_norm': 3.635181427001953, 'learning_rate': 6.688e-06, 'epoch': 3.33}\n",
      "{'loss': 1.2075, 'grad_norm': 3.0936520099639893, 'learning_rate': 6.560000000000001e-06, 'epoch': 3.36}\n",
      "{'loss': 1.1932, 'grad_norm': 3.1216466426849365, 'learning_rate': 6.432e-06, 'epoch': 3.39}\n",
      "{'loss': 1.2271, 'grad_norm': 2.7372043132781982, 'learning_rate': 6.304e-06, 'epoch': 3.42}\n",
      "{'loss': 1.2069, 'grad_norm': 3.21951961517334, 'learning_rate': 6.176000000000001e-06, 'epoch': 3.46}\n",
      "{'loss': 1.2428, 'grad_norm': 2.6365089416503906, 'learning_rate': 6.048e-06, 'epoch': 3.49}\n",
      "{'loss': 1.2025, 'grad_norm': 4.83248233795166, 'learning_rate': 5.92e-06, 'epoch': 3.52}\n",
      "{'loss': 1.2304, 'grad_norm': 3.7598764896392822, 'learning_rate': 5.792000000000001e-06, 'epoch': 3.55}\n",
      "{'loss': 1.209, 'grad_norm': 2.765094757080078, 'learning_rate': 5.664e-06, 'epoch': 3.58}\n",
      "{'loss': 1.2085, 'grad_norm': 2.9760396480560303, 'learning_rate': 5.536e-06, 'epoch': 3.62}\n",
      "{'loss': 1.1997, 'grad_norm': 2.898339033126831, 'learning_rate': 5.408e-06, 'epoch': 3.65}\n",
      "{'loss': 1.2178, 'grad_norm': 2.4997191429138184, 'learning_rate': 5.28e-06, 'epoch': 3.68}\n",
      "{'loss': 1.1863, 'grad_norm': 2.6527554988861084, 'learning_rate': 5.152e-06, 'epoch': 3.71}\n",
      "{'loss': 1.2087, 'grad_norm': 4.974213123321533, 'learning_rate': 5.024e-06, 'epoch': 3.74}\n",
      "{'loss': 1.1917, 'grad_norm': 3.4086520671844482, 'learning_rate': 4.896e-06, 'epoch': 3.78}\n",
      "{'loss': 1.2326, 'grad_norm': 3.9477312564849854, 'learning_rate': 4.768000000000001e-06, 'epoch': 3.81}\n",
      "{'loss': 1.2183, 'grad_norm': 2.9795429706573486, 'learning_rate': 4.6400000000000005e-06, 'epoch': 3.84}\n",
      "{'loss': 1.2073, 'grad_norm': 3.5533437728881836, 'learning_rate': 4.512e-06, 'epoch': 3.87}\n",
      "{'loss': 1.2175, 'grad_norm': 3.1914796829223633, 'learning_rate': 4.384000000000001e-06, 'epoch': 3.9}\n",
      "{'loss': 1.1882, 'grad_norm': 2.878591537475586, 'learning_rate': 4.256e-06, 'epoch': 3.94}\n",
      "{'loss': 1.2253, 'grad_norm': 4.1007232666015625, 'learning_rate': 4.128e-06, 'epoch': 3.97}\n",
      "{'loss': 1.2125, 'grad_norm': 2.98115611076355, 'learning_rate': 4.000000000000001e-06, 'epoch': 4.0}\n"
     ]
    },
    {
     "data": {
      "application/vnd.jupyter.widget-view+json": {
       "model_id": "a43b417b96954767b43f9516829cd157",
       "version_major": 2,
       "version_minor": 0
      },
      "text/plain": [
       "  0%|          | 0/125 [00:00<?, ?it/s]"
      ]
     },
     "metadata": {},
     "output_type": "display_data"
    },
    {
     "name": "stderr",
     "output_type": "stream",
     "text": [
      "Some non-default generation parameters are set in the model config. These should go into a GenerationConfig file (https://huggingface.co/docs/transformers/generation_strategies#save-a-custom-decoding-strategy-with-your-model) instead. This warning will be raised to an exception in v4.41.\n",
      "Non-default generation parameters: {'max_length': 200, 'early_stopping': True, 'num_beams': 5, 'forced_eos_token_id': 2}\n"
     ]
    },
    {
     "name": "stdout",
     "output_type": "stream",
     "text": [
      "{'eval_loss': 1.5512083768844604, 'eval_bleu': 30.0503, 'eval_gen_len': 12.811, 'eval_meteor': 0.5461, 'eval_runtime': 86.0481, 'eval_samples_per_second': 23.243, 'eval_steps_per_second': 1.453, 'epoch': 4.0}\n",
      "{'loss': 1.1445, 'grad_norm': 3.4271316528320312, 'learning_rate': 3.872e-06, 'epoch': 4.03}\n",
      "{'loss': 1.132, 'grad_norm': 3.115539312362671, 'learning_rate': 3.7440000000000005e-06, 'epoch': 4.06}\n",
      "{'loss': 1.1212, 'grad_norm': 3.165928602218628, 'learning_rate': 3.616e-06, 'epoch': 4.1}\n",
      "{'loss': 1.1645, 'grad_norm': 2.255429267883301, 'learning_rate': 3.4880000000000003e-06, 'epoch': 4.13}\n",
      "{'loss': 1.1628, 'grad_norm': 2.3259506225585938, 'learning_rate': 3.3600000000000004e-06, 'epoch': 4.16}\n",
      "{'loss': 1.1583, 'grad_norm': 2.7521448135375977, 'learning_rate': 3.232e-06, 'epoch': 4.19}\n",
      "{'loss': 1.1395, 'grad_norm': 3.222769021987915, 'learning_rate': 3.1040000000000003e-06, 'epoch': 4.22}\n",
      "{'loss': 1.1531, 'grad_norm': 3.1134374141693115, 'learning_rate': 2.976e-06, 'epoch': 4.26}\n",
      "{'loss': 1.1536, 'grad_norm': 2.703824043273926, 'learning_rate': 2.848e-06, 'epoch': 4.29}\n",
      "{'loss': 1.136, 'grad_norm': 4.35670280456543, 'learning_rate': 2.7200000000000002e-06, 'epoch': 4.32}\n",
      "{'loss': 1.1495, 'grad_norm': 2.5639030933380127, 'learning_rate': 2.592e-06, 'epoch': 4.35}\n",
      "{'loss': 1.1411, 'grad_norm': 3.506493091583252, 'learning_rate': 2.4640000000000005e-06, 'epoch': 4.38}\n",
      "{'loss': 1.1337, 'grad_norm': 2.6307919025421143, 'learning_rate': 2.336e-06, 'epoch': 4.42}\n",
      "{'loss': 1.1523, 'grad_norm': 3.2228024005889893, 'learning_rate': 2.2080000000000003e-06, 'epoch': 4.45}\n",
      "{'loss': 1.1356, 'grad_norm': 3.10074782371521, 'learning_rate': 2.08e-06, 'epoch': 4.48}\n",
      "{'loss': 1.1483, 'grad_norm': 3.689243793487549, 'learning_rate': 1.952e-06, 'epoch': 4.51}\n",
      "{'loss': 1.1276, 'grad_norm': 3.5658769607543945, 'learning_rate': 1.8240000000000002e-06, 'epoch': 4.54}\n",
      "{'loss': 1.1486, 'grad_norm': 2.2478601932525635, 'learning_rate': 1.6960000000000002e-06, 'epoch': 4.58}\n",
      "{'loss': 1.1421, 'grad_norm': 3.276799201965332, 'learning_rate': 1.568e-06, 'epoch': 4.61}\n",
      "{'loss': 1.1428, 'grad_norm': 2.9546663761138916, 'learning_rate': 1.44e-06, 'epoch': 4.64}\n",
      "{'loss': 1.159, 'grad_norm': 3.9342050552368164, 'learning_rate': 1.3120000000000003e-06, 'epoch': 4.67}\n",
      "{'loss': 1.1526, 'grad_norm': 2.6874969005584717, 'learning_rate': 1.1840000000000002e-06, 'epoch': 4.7}\n",
      "{'loss': 1.153, 'grad_norm': 3.630425453186035, 'learning_rate': 1.0560000000000001e-06, 'epoch': 4.74}\n",
      "{'loss': 1.1575, 'grad_norm': 2.8367486000061035, 'learning_rate': 9.28e-07, 'epoch': 4.77}\n",
      "{'loss': 1.1611, 'grad_norm': 3.6787033081054688, 'learning_rate': 8.000000000000001e-07, 'epoch': 4.8}\n",
      "{'loss': 1.136, 'grad_norm': 2.854278802871704, 'learning_rate': 6.72e-07, 'epoch': 4.83}\n",
      "{'loss': 1.1588, 'grad_norm': 3.0138373374938965, 'learning_rate': 5.44e-07, 'epoch': 4.86}\n",
      "{'loss': 1.1619, 'grad_norm': 3.4034881591796875, 'learning_rate': 4.16e-07, 'epoch': 4.9}\n",
      "{'loss': 1.1561, 'grad_norm': 2.7002837657928467, 'learning_rate': 2.8800000000000004e-07, 'epoch': 4.93}\n",
      "{'loss': 1.1455, 'grad_norm': 2.955324649810791, 'learning_rate': 1.6e-07, 'epoch': 4.96}\n",
      "{'loss': 1.141, 'grad_norm': 4.504487037658691, 'learning_rate': 3.2e-08, 'epoch': 4.99}\n"
     ]
    },
    {
     "data": {
      "application/vnd.jupyter.widget-view+json": {
       "model_id": "0a30f0ccf5164f108bf62fe40f8988b0",
       "version_major": 2,
       "version_minor": 0
      },
      "text/plain": [
       "  0%|          | 0/125 [00:00<?, ?it/s]"
      ]
     },
     "metadata": {},
     "output_type": "display_data"
    },
    {
     "name": "stderr",
     "output_type": "stream",
     "text": [
      "Some non-default generation parameters are set in the model config. These should go into a GenerationConfig file (https://huggingface.co/docs/transformers/generation_strategies#save-a-custom-decoding-strategy-with-your-model) instead. This warning will be raised to an exception in v4.41.\n",
      "Non-default generation parameters: {'max_length': 200, 'early_stopping': True, 'num_beams': 5, 'forced_eos_token_id': 2}\n"
     ]
    },
    {
     "name": "stdout",
     "output_type": "stream",
     "text": [
      "{'eval_loss': 1.5672495365142822, 'eval_bleu': 30.0702, 'eval_gen_len': 12.7625, 'eval_meteor': 0.5455, 'eval_runtime': 82.0808, 'eval_samples_per_second': 24.366, 'eval_steps_per_second': 1.523, 'epoch': 5.0}\n"
     ]
    },
    {
     "name": "stderr",
     "output_type": "stream",
     "text": [
      "There were missing keys in the checkpoint model loaded: ['model.encoder.embed_tokens.weight', 'model.decoder.embed_tokens.weight', 'lm_head.weight'].\n",
      "Some non-default generation parameters are set in the model config. These should go into a GenerationConfig file (https://huggingface.co/docs/transformers/generation_strategies#save-a-custom-decoding-strategy-with-your-model) instead. This warning will be raised to an exception in v4.41.\n",
      "Non-default generation parameters: {'max_length': 200, 'early_stopping': True, 'num_beams': 5, 'forced_eos_token_id': 2}\n"
     ]
    },
    {
     "name": "stdout",
     "output_type": "stream",
     "text": [
      "{'train_runtime': 33685.493, 'train_samples_per_second': 37.108, 'train_steps_per_second': 2.319, 'train_loss': 1.3567446166015624, 'epoch': 5.0}\n"
     ]
    }
   ],
   "source": [
    "if not os.path.exists(TRAINING_RESULTS_PATH):\n",
    "    os.makedirs(TRAINING_RESULTS_PATH)\n",
    "\n",
    "if TRAIN:\n",
    "\n",
    "    trainer = Seq2SeqTrainer(\n",
    "        model,\n",
    "        args,\n",
    "        train_dataset=small_train_dataset,\n",
    "        eval_dataset=shuffled_eval_dataset,\n",
    "        data_collator=data_collator,\n",
    "        tokenizer=tokenizer,\n",
    "        compute_metrics=compute_metrics,\n",
    "    )\n",
    "    trainer.train()\n",
    "\n",
    "    trainer.save_model(MODEL_PATH)\n",
    "\n",
    "    log_history = pd.DataFrame(trainer.state.log_history)\n",
    "\n",
    "    bleu_log = log_history[\"eval_bleu\"].dropna().to_list()\n",
    "\n",
    "    meteor_log = log_history[\"eval_meteor\"].dropna().to_list()\n",
    "\n",
    "    eval_log = log_history[\"eval_loss\"].dropna().to_list()\n",
    "\n",
    "    # Save the variables using pickle\n",
    "\n",
    "    with open(LOG_RESULTS_PATH, \"wb\") as f:\n",
    "\n",
    "        pickle.dump((log_history, bleu_log, meteor_log, eval_log), f)\n",
    "\n",
    "else:\n",
    "\n",
    "    # Load the saved variables using pickle\n",
    "\n",
    "    with open(LOG_RESULTS_PATH, \"rb\") as f:\n",
    "\n",
    "        log_history, bleu_log, meteor_log, eval_log = pickle.load(f)"
   ]
  },
  {
   "cell_type": "code",
   "execution_count": 14,
   "metadata": {},
   "outputs": [
    {
     "data": {
      "image/png": "[encoded data removed]",
      "text/plain": [
       "<Figure size 2000x1000 with 4 Axes>"
      ]
     },
     "metadata": {},
     "output_type": "display_data"
    }
   ],
   "source": [
    "fig, ax = plt.subplots(2, 2, figsize=(20, 10))\n",
    "plt.subplot(2, 2, 1)\n",
    "plt.plot(range(len(bleu_log)), bleu_log, label='BLEU Score')\n",
    "plt.title(\"BLEU Score\")\n",
    "plt.xlabel('Epoch')\n",
    "plt.ylabel('BLEU')\n",
    "\n",
    "plt.subplot(2, 2, 2)\n",
    "plt.plot(range(len(meteor_log)), meteor_log, label='METEOR Score')\n",
    "plt.title(\"METEOR Score\")\n",
    "plt.xlabel('Epoch')\n",
    "plt.ylabel('METEOR')\n",
    "\n",
    "plt.subplot(2, 2, 3)\n",
    "plt.plot(range(len(eval_log)), eval_log, label='Generation Length')\n",
    "plt.title(\"Validation Loss\")\n",
    "plt.xlabel('Epoch')\n",
    "plt.ylabel('Val Loss')\n",
    "\n",
    "plt.legend()\n",
    "plt.show()"
   ]
  },
  {
   "cell_type": "code",
   "execution_count": 15,
   "metadata": {},
   "outputs": [],
   "source": [
    "rows = []\n",
    "for i in range(len(bleu_log)):\n",
    "    row = {\n",
    "        'Epoch': i+1,\n",
    "        'BLEU': bleu_log[i],\n",
    "        'METEOR': meteor_log[i],\n",
    "        'validation_loss': eval_log[i],\n",
    "    }\n",
    "    rows.append(row)\n",
    "\n",
    "# Define the fieldnames for the CSV file\n",
    "fieldnames = ['Epoch', 'BLEU', 'METEOR', 'validation_loss']\n",
    "\n",
    "# Write the rows to a CSV file\n",
    "with open(TRAINING_RESULTS_PATH, 'w', newline='') as csvfile:\n",
    "    writer = csv.DictWriter(csvfile, fieldnames=fieldnames)\n",
    "    writer.writeheader()\n",
    "    for row in rows:\n",
    "        writer.writerow(row)"
   ]
  },
  {
   "cell_type": "code",
   "execution_count": 16,
   "metadata": {},
   "outputs": [
    {
     "name": "stdout",
     "output_type": "stream",
     "text": [
      "Loading tokenizer and model...\n",
      "\n"
     ]
    },
    {
     "ename": "OSError",
     "evalue": "Incorrect path_or_model_id: 'model/mbart-large-50-one-to-many-mmt-finetuned-en-to-id\\checkpoint-3125'. Please provide either the path to a local folder or the repo_id of a model on the Hub.",
     "output_type": "error",
     "traceback": [
      "\u001b[1;31m---------------------------------------------------------------------------\u001b[0m",
      "\u001b[1;31mHFValidationError\u001b[0m                         Traceback (most recent call last)",
      "File \u001b[1;32mc:\\Users\\user\\anaconda3\\envs\\uas-nlp\\lib\\site-packages\\transformers\\utils\\hub.py:398\u001b[0m, in \u001b[0;36mcached_file\u001b[1;34m(path_or_repo_id, filename, cache_dir, force_download, resume_download, proxies, token, revision, local_files_only, subfolder, repo_type, user_agent, _raise_exceptions_for_gated_repo, _raise_exceptions_for_missing_entries, _raise_exceptions_for_connection_errors, _commit_hash, **deprecated_kwargs)\u001b[0m\n\u001b[0;32m    396\u001b[0m \u001b[38;5;28;01mtry\u001b[39;00m:\n\u001b[0;32m    397\u001b[0m     \u001b[38;5;66;03m# Load from URL or cache if already cached\u001b[39;00m\n\u001b[1;32m--> 398\u001b[0m     resolved_file \u001b[38;5;241m=\u001b[39m \u001b[43mhf_hub_download\u001b[49m\u001b[43m(\u001b[49m\n\u001b[0;32m    399\u001b[0m \u001b[43m        \u001b[49m\u001b[43mpath_or_repo_id\u001b[49m\u001b[43m,\u001b[49m\n\u001b[0;32m    400\u001b[0m \u001b[43m        \u001b[49m\u001b[43mfilename\u001b[49m\u001b[43m,\u001b[49m\n\u001b[0;32m    401\u001b[0m \u001b[43m        \u001b[49m\u001b[43msubfolder\u001b[49m\u001b[38;5;241;43m=\u001b[39;49m\u001b[38;5;28;43;01mNone\u001b[39;49;00m\u001b[43m \u001b[49m\u001b[38;5;28;43;01mif\u001b[39;49;00m\u001b[43m \u001b[49m\u001b[38;5;28;43mlen\u001b[39;49m\u001b[43m(\u001b[49m\u001b[43msubfolder\u001b[49m\u001b[43m)\u001b[49m\u001b[43m \u001b[49m\u001b[38;5;241;43m==\u001b[39;49m\u001b[43m \u001b[49m\u001b[38;5;241;43m0\u001b[39;49m\u001b[43m \u001b[49m\u001b[38;5;28;43;01melse\u001b[39;49;00m\u001b[43m \u001b[49m\u001b[43msubfolder\u001b[49m\u001b[43m,\u001b[49m\n\u001b[0;32m    402\u001b[0m \u001b[43m        \u001b[49m\u001b[43mrepo_type\u001b[49m\u001b[38;5;241;43m=\u001b[39;49m\u001b[43mrepo_type\u001b[49m\u001b[43m,\u001b[49m\n\u001b[0;32m    403\u001b[0m \u001b[43m        \u001b[49m\u001b[43mrevision\u001b[49m\u001b[38;5;241;43m=\u001b[39;49m\u001b[43mrevision\u001b[49m\u001b[43m,\u001b[49m\n\u001b[0;32m    404\u001b[0m \u001b[43m        \u001b[49m\u001b[43mcache_dir\u001b[49m\u001b[38;5;241;43m=\u001b[39;49m\u001b[43mcache_dir\u001b[49m\u001b[43m,\u001b[49m\n\u001b[0;32m    405\u001b[0m \u001b[43m        \u001b[49m\u001b[43muser_agent\u001b[49m\u001b[38;5;241;43m=\u001b[39;49m\u001b[43muser_agent\u001b[49m\u001b[43m,\u001b[49m\n\u001b[0;32m    406\u001b[0m \u001b[43m        \u001b[49m\u001b[43mforce_download\u001b[49m\u001b[38;5;241;43m=\u001b[39;49m\u001b[43mforce_download\u001b[49m\u001b[43m,\u001b[49m\n\u001b[0;32m    407\u001b[0m \u001b[43m        \u001b[49m\u001b[43mproxies\u001b[49m\u001b[38;5;241;43m=\u001b[39;49m\u001b[43mproxies\u001b[49m\u001b[43m,\u001b[49m\n\u001b[0;32m    408\u001b[0m \u001b[43m        \u001b[49m\u001b[43mresume_download\u001b[49m\u001b[38;5;241;43m=\u001b[39;49m\u001b[43mresume_download\u001b[49m\u001b[43m,\u001b[49m\n\u001b[0;32m    409\u001b[0m \u001b[43m        \u001b[49m\u001b[43mtoken\u001b[49m\u001b[38;5;241;43m=\u001b[39;49m\u001b[43mtoken\u001b[49m\u001b[43m,\u001b[49m\n\u001b[0;32m    410\u001b[0m \u001b[43m        \u001b[49m\u001b[43mlocal_files_only\u001b[49m\u001b[38;5;241;43m=\u001b[39;49m\u001b[43mlocal_files_only\u001b[49m\u001b[43m,\u001b[49m\n\u001b[0;32m    411\u001b[0m \u001b[43m    \u001b[49m\u001b[43m)\u001b[49m\n\u001b[0;32m    412\u001b[0m \u001b[38;5;28;01mexcept\u001b[39;00m GatedRepoError \u001b[38;5;28;01mas\u001b[39;00m e:\n",
      "File \u001b[1;32mc:\\Users\\user\\anaconda3\\envs\\uas-nlp\\lib\\site-packages\\huggingface_hub\\utils\\_validators.py:111\u001b[0m, in \u001b[0;36mvalidate_hf_hub_args.<locals>._inner_fn\u001b[1;34m(*args, **kwargs)\u001b[0m\n\u001b[0;32m    110\u001b[0m \u001b[38;5;28;01mif\u001b[39;00m arg_name \u001b[38;5;129;01min\u001b[39;00m [\u001b[38;5;124m\"\u001b[39m\u001b[38;5;124mrepo_id\u001b[39m\u001b[38;5;124m\"\u001b[39m, \u001b[38;5;124m\"\u001b[39m\u001b[38;5;124mfrom_id\u001b[39m\u001b[38;5;124m\"\u001b[39m, \u001b[38;5;124m\"\u001b[39m\u001b[38;5;124mto_id\u001b[39m\u001b[38;5;124m\"\u001b[39m]:\n\u001b[1;32m--> 111\u001b[0m     \u001b[43mvalidate_repo_id\u001b[49m\u001b[43m(\u001b[49m\u001b[43marg_value\u001b[49m\u001b[43m)\u001b[49m\n\u001b[0;32m    113\u001b[0m \u001b[38;5;28;01melif\u001b[39;00m arg_name \u001b[38;5;241m==\u001b[39m \u001b[38;5;124m\"\u001b[39m\u001b[38;5;124mtoken\u001b[39m\u001b[38;5;124m\"\u001b[39m \u001b[38;5;129;01mand\u001b[39;00m arg_value \u001b[38;5;129;01mis\u001b[39;00m \u001b[38;5;129;01mnot\u001b[39;00m \u001b[38;5;28;01mNone\u001b[39;00m:\n",
      "File \u001b[1;32mc:\\Users\\user\\anaconda3\\envs\\uas-nlp\\lib\\site-packages\\huggingface_hub\\utils\\_validators.py:165\u001b[0m, in \u001b[0;36mvalidate_repo_id\u001b[1;34m(repo_id)\u001b[0m\n\u001b[0;32m    164\u001b[0m \u001b[38;5;28;01mif\u001b[39;00m \u001b[38;5;129;01mnot\u001b[39;00m REPO_ID_REGEX\u001b[38;5;241m.\u001b[39mmatch(repo_id):\n\u001b[1;32m--> 165\u001b[0m     \u001b[38;5;28;01mraise\u001b[39;00m HFValidationError(\n\u001b[0;32m    166\u001b[0m         \u001b[38;5;124m\"\u001b[39m\u001b[38;5;124mRepo id must use alphanumeric chars or \u001b[39m\u001b[38;5;124m'\u001b[39m\u001b[38;5;124m-\u001b[39m\u001b[38;5;124m'\u001b[39m\u001b[38;5;124m, \u001b[39m\u001b[38;5;124m'\u001b[39m\u001b[38;5;124m_\u001b[39m\u001b[38;5;124m'\u001b[39m\u001b[38;5;124m, \u001b[39m\u001b[38;5;124m'\u001b[39m\u001b[38;5;124m.\u001b[39m\u001b[38;5;124m'\u001b[39m\u001b[38;5;124m, \u001b[39m\u001b[38;5;124m'\u001b[39m\u001b[38;5;124m--\u001b[39m\u001b[38;5;124m'\u001b[39m\u001b[38;5;124m and \u001b[39m\u001b[38;5;124m'\u001b[39m\u001b[38;5;124m..\u001b[39m\u001b[38;5;124m'\u001b[39m\u001b[38;5;124m are\u001b[39m\u001b[38;5;124m\"\u001b[39m\n\u001b[0;32m    167\u001b[0m         \u001b[38;5;124m\"\u001b[39m\u001b[38;5;124m forbidden, \u001b[39m\u001b[38;5;124m'\u001b[39m\u001b[38;5;124m-\u001b[39m\u001b[38;5;124m'\u001b[39m\u001b[38;5;124m and \u001b[39m\u001b[38;5;124m'\u001b[39m\u001b[38;5;124m.\u001b[39m\u001b[38;5;124m'\u001b[39m\u001b[38;5;124m cannot start or end the name, max length is 96:\u001b[39m\u001b[38;5;124m\"\u001b[39m\n\u001b[0;32m    168\u001b[0m         \u001b[38;5;124mf\u001b[39m\u001b[38;5;124m\"\u001b[39m\u001b[38;5;124m \u001b[39m\u001b[38;5;124m'\u001b[39m\u001b[38;5;132;01m{\u001b[39;00mrepo_id\u001b[38;5;132;01m}\u001b[39;00m\u001b[38;5;124m'\u001b[39m\u001b[38;5;124m.\u001b[39m\u001b[38;5;124m\"\u001b[39m\n\u001b[0;32m    169\u001b[0m     )\n\u001b[0;32m    171\u001b[0m \u001b[38;5;28;01mif\u001b[39;00m \u001b[38;5;124m\"\u001b[39m\u001b[38;5;124m--\u001b[39m\u001b[38;5;124m\"\u001b[39m \u001b[38;5;129;01min\u001b[39;00m repo_id \u001b[38;5;129;01mor\u001b[39;00m \u001b[38;5;124m\"\u001b[39m\u001b[38;5;124m..\u001b[39m\u001b[38;5;124m\"\u001b[39m \u001b[38;5;129;01min\u001b[39;00m repo_id:\n",
      "\u001b[1;31mHFValidationError\u001b[0m: Repo id must use alphanumeric chars or '-', '_', '.', '--' and '..' are forbidden, '-' and '.' cannot start or end the name, max length is 96: 'model/mbart-large-50-one-to-many-mmt-finetuned-en-to-id\\checkpoint-3125'.",
      "\nThe above exception was the direct cause of the following exception:\n",
      "\u001b[1;31mOSError\u001b[0m                                   Traceback (most recent call last)",
      "Cell \u001b[1;32mIn[16], line 2\u001b[0m\n\u001b[0;32m      1\u001b[0m \u001b[38;5;28mprint\u001b[39m(\u001b[38;5;124m\"\u001b[39m\u001b[38;5;124mLoading tokenizer and model...\u001b[39m\u001b[38;5;130;01m\\n\u001b[39;00m\u001b[38;5;124m\"\u001b[39m)\n\u001b[1;32m----> 2\u001b[0m tokenizer \u001b[38;5;241m=\u001b[39m \u001b[43mMBart50TokenizerFast\u001b[49m\u001b[38;5;241;43m.\u001b[39;49m\u001b[43mfrom_pretrained\u001b[49m\u001b[43m(\u001b[49m\u001b[43mos\u001b[49m\u001b[38;5;241;43m.\u001b[39;49m\u001b[43mpath\u001b[49m\u001b[38;5;241;43m.\u001b[39;49m\u001b[43mjoin\u001b[49m\u001b[43m(\u001b[49m\u001b[43mMODEL_PATH\u001b[49m\u001b[43m,\u001b[49m\u001b[43m \u001b[49m\u001b[38;5;124;43m\"\u001b[39;49m\u001b[38;5;124;43mcheckpoint-3125\u001b[39;49m\u001b[38;5;124;43m\"\u001b[39;49m\u001b[43m)\u001b[49m\u001b[43m,\u001b[49m\u001b[43m \u001b[49m\u001b[43msrc_lang\u001b[49m\u001b[38;5;241;43m=\u001b[39;49m\u001b[38;5;124;43m\"\u001b[39;49m\u001b[38;5;124;43men_XX\u001b[39;49m\u001b[38;5;124;43m\"\u001b[39;49m\u001b[43m)\u001b[49m\n\u001b[0;32m      3\u001b[0m model \u001b[38;5;241m=\u001b[39m MBartForConditionalGeneration\u001b[38;5;241m.\u001b[39mfrom_pretrained(\n\u001b[0;32m      4\u001b[0m     os\u001b[38;5;241m.\u001b[39mpath\u001b[38;5;241m.\u001b[39mjoin(MODEL_PATH, \u001b[38;5;124m\"\u001b[39m\u001b[38;5;124mcheckpoint-3125\u001b[39m\u001b[38;5;124m\"\u001b[39m))\u001b[38;5;241m.\u001b[39mcuda()\n\u001b[0;32m      6\u001b[0m src_text \u001b[38;5;241m=\u001b[39m  \u001b[38;5;124m\"\"\"\u001b[39m\u001b[38;5;124mBefore doing modeling, careful consideration is needed about what data to choose and what kind of modeling is required. So 1 week before this project starts, collect via text entry that has been prepared on the canvas, a short proposal (less than 500 words) regarding the problem you want to solve along with the data and modeling that you will use. Proposals will be assessed qualitatively first to ensure each group\u001b[39m\u001b[38;5;124m'\u001b[39m\u001b[38;5;124ms project is unique. If there are the same data options, only proposals from the group that collected first are accepted. You may use the algorithms used in individual tasks, but may not work on the same project or use the same data. You are free to use any python library. If the proposal is complete and valid, it will automatically get a score of 20 points.\u001b[39m\u001b[38;5;124m\"\"\"\u001b[39m\n",
      "File \u001b[1;32mc:\\Users\\user\\anaconda3\\envs\\uas-nlp\\lib\\site-packages\\transformers\\tokenization_utils_base.py:2010\u001b[0m, in \u001b[0;36mPreTrainedTokenizerBase.from_pretrained\u001b[1;34m(cls, pretrained_model_name_or_path, cache_dir, force_download, local_files_only, token, revision, trust_remote_code, *init_inputs, **kwargs)\u001b[0m\n\u001b[0;32m   2007\u001b[0m \u001b[38;5;28;01mif\u001b[39;00m \u001b[38;5;124m\"\u001b[39m\u001b[38;5;124mtokenizer_file\u001b[39m\u001b[38;5;124m\"\u001b[39m \u001b[38;5;129;01min\u001b[39;00m vocab_files:\n\u001b[0;32m   2008\u001b[0m     \u001b[38;5;66;03m# Try to get the tokenizer config to see if there are versioned tokenizer files.\u001b[39;00m\n\u001b[0;32m   2009\u001b[0m     fast_tokenizer_file \u001b[38;5;241m=\u001b[39m FULL_TOKENIZER_FILE\n\u001b[1;32m-> 2010\u001b[0m     resolved_config_file \u001b[38;5;241m=\u001b[39m \u001b[43mcached_file\u001b[49m\u001b[43m(\u001b[49m\n\u001b[0;32m   2011\u001b[0m \u001b[43m        \u001b[49m\u001b[43mpretrained_model_name_or_path\u001b[49m\u001b[43m,\u001b[49m\n\u001b[0;32m   2012\u001b[0m \u001b[43m        \u001b[49m\u001b[43mTOKENIZER_CONFIG_FILE\u001b[49m\u001b[43m,\u001b[49m\n\u001b[0;32m   2013\u001b[0m \u001b[43m        \u001b[49m\u001b[43mcache_dir\u001b[49m\u001b[38;5;241;43m=\u001b[39;49m\u001b[43mcache_dir\u001b[49m\u001b[43m,\u001b[49m\n\u001b[0;32m   2014\u001b[0m \u001b[43m        \u001b[49m\u001b[43mforce_download\u001b[49m\u001b[38;5;241;43m=\u001b[39;49m\u001b[43mforce_download\u001b[49m\u001b[43m,\u001b[49m\n\u001b[0;32m   2015\u001b[0m \u001b[43m        \u001b[49m\u001b[43mresume_download\u001b[49m\u001b[38;5;241;43m=\u001b[39;49m\u001b[43mresume_download\u001b[49m\u001b[43m,\u001b[49m\n\u001b[0;32m   2016\u001b[0m \u001b[43m        \u001b[49m\u001b[43mproxies\u001b[49m\u001b[38;5;241;43m=\u001b[39;49m\u001b[43mproxies\u001b[49m\u001b[43m,\u001b[49m\n\u001b[0;32m   2017\u001b[0m \u001b[43m        \u001b[49m\u001b[43mtoken\u001b[49m\u001b[38;5;241;43m=\u001b[39;49m\u001b[43mtoken\u001b[49m\u001b[43m,\u001b[49m\n\u001b[0;32m   2018\u001b[0m \u001b[43m        \u001b[49m\u001b[43mrevision\u001b[49m\u001b[38;5;241;43m=\u001b[39;49m\u001b[43mrevision\u001b[49m\u001b[43m,\u001b[49m\n\u001b[0;32m   2019\u001b[0m \u001b[43m        \u001b[49m\u001b[43mlocal_files_only\u001b[49m\u001b[38;5;241;43m=\u001b[39;49m\u001b[43mlocal_files_only\u001b[49m\u001b[43m,\u001b[49m\n\u001b[0;32m   2020\u001b[0m \u001b[43m        \u001b[49m\u001b[43msubfolder\u001b[49m\u001b[38;5;241;43m=\u001b[39;49m\u001b[43msubfolder\u001b[49m\u001b[43m,\u001b[49m\n\u001b[0;32m   2021\u001b[0m \u001b[43m        \u001b[49m\u001b[43muser_agent\u001b[49m\u001b[38;5;241;43m=\u001b[39;49m\u001b[43muser_agent\u001b[49m\u001b[43m,\u001b[49m\n\u001b[0;32m   2022\u001b[0m \u001b[43m        \u001b[49m\u001b[43m_raise_exceptions_for_gated_repo\u001b[49m\u001b[38;5;241;43m=\u001b[39;49m\u001b[38;5;28;43;01mFalse\u001b[39;49;00m\u001b[43m,\u001b[49m\n\u001b[0;32m   2023\u001b[0m \u001b[43m        \u001b[49m\u001b[43m_raise_exceptions_for_missing_entries\u001b[49m\u001b[38;5;241;43m=\u001b[39;49m\u001b[38;5;28;43;01mFalse\u001b[39;49;00m\u001b[43m,\u001b[49m\n\u001b[0;32m   2024\u001b[0m \u001b[43m        \u001b[49m\u001b[43m_raise_exceptions_for_connection_errors\u001b[49m\u001b[38;5;241;43m=\u001b[39;49m\u001b[38;5;28;43;01mFalse\u001b[39;49;00m\u001b[43m,\u001b[49m\n\u001b[0;32m   2025\u001b[0m \u001b[43m        \u001b[49m\u001b[43m_commit_hash\u001b[49m\u001b[38;5;241;43m=\u001b[39;49m\u001b[43mcommit_hash\u001b[49m\u001b[43m,\u001b[49m\n\u001b[0;32m   2026\u001b[0m \u001b[43m    \u001b[49m\u001b[43m)\u001b[49m\n\u001b[0;32m   2027\u001b[0m     commit_hash \u001b[38;5;241m=\u001b[39m extract_commit_hash(resolved_config_file, commit_hash)\n\u001b[0;32m   2028\u001b[0m     \u001b[38;5;28;01mif\u001b[39;00m resolved_config_file \u001b[38;5;129;01mis\u001b[39;00m \u001b[38;5;129;01mnot\u001b[39;00m \u001b[38;5;28;01mNone\u001b[39;00m:\n",
      "File \u001b[1;32mc:\\Users\\user\\anaconda3\\envs\\uas-nlp\\lib\\site-packages\\transformers\\utils\\hub.py:462\u001b[0m, in \u001b[0;36mcached_file\u001b[1;34m(path_or_repo_id, filename, cache_dir, force_download, resume_download, proxies, token, revision, local_files_only, subfolder, repo_type, user_agent, _raise_exceptions_for_gated_repo, _raise_exceptions_for_missing_entries, _raise_exceptions_for_connection_errors, _commit_hash, **deprecated_kwargs)\u001b[0m\n\u001b[0;32m    460\u001b[0m     \u001b[38;5;28;01mraise\u001b[39;00m \u001b[38;5;167;01mEnvironmentError\u001b[39;00m(\u001b[38;5;124mf\u001b[39m\u001b[38;5;124m\"\u001b[39m\u001b[38;5;124mThere was a specific connection error when trying to load \u001b[39m\u001b[38;5;132;01m{\u001b[39;00mpath_or_repo_id\u001b[38;5;132;01m}\u001b[39;00m\u001b[38;5;124m:\u001b[39m\u001b[38;5;130;01m\\n\u001b[39;00m\u001b[38;5;132;01m{\u001b[39;00merr\u001b[38;5;132;01m}\u001b[39;00m\u001b[38;5;124m\"\u001b[39m)\n\u001b[0;32m    461\u001b[0m \u001b[38;5;28;01mexcept\u001b[39;00m HFValidationError \u001b[38;5;28;01mas\u001b[39;00m e:\n\u001b[1;32m--> 462\u001b[0m     \u001b[38;5;28;01mraise\u001b[39;00m \u001b[38;5;167;01mEnvironmentError\u001b[39;00m(\n\u001b[0;32m    463\u001b[0m         \u001b[38;5;124mf\u001b[39m\u001b[38;5;124m\"\u001b[39m\u001b[38;5;124mIncorrect path_or_model_id: \u001b[39m\u001b[38;5;124m'\u001b[39m\u001b[38;5;132;01m{\u001b[39;00mpath_or_repo_id\u001b[38;5;132;01m}\u001b[39;00m\u001b[38;5;124m'\u001b[39m\u001b[38;5;124m. Please provide either the path to a local folder or the repo_id of a model on the Hub.\u001b[39m\u001b[38;5;124m\"\u001b[39m\n\u001b[0;32m    464\u001b[0m     ) \u001b[38;5;28;01mfrom\u001b[39;00m \u001b[38;5;21;01me\u001b[39;00m\n\u001b[0;32m    465\u001b[0m \u001b[38;5;28;01mreturn\u001b[39;00m resolved_file\n",
      "\u001b[1;31mOSError\u001b[0m: Incorrect path_or_model_id: 'model/mbart-large-50-one-to-many-mmt-finetuned-en-to-id\\checkpoint-3125'. Please provide either the path to a local folder or the repo_id of a model on the Hub."
     ]
    }
   ],
   "source": [
    "print(\"Loading tokenizer and model...\\n\")\n",
    "tokenizer = MBart50TokenizerFast.from_pretrained(os.path.join(MODEL_PATH, \"checkpoint-3125\"), src_lang=\"en_XX\")\n",
    "model = MBartForConditionalGeneration.from_pretrained(\n",
    "    os.path.join(MODEL_PATH, \"checkpoint-3125\")).cuda()\n",
    "\n",
    "src_text =  \"\"\"Before doing modeling, careful consideration is needed about what data to choose and what kind of modeling is required. So 1 week before this project starts, collect via text entry that has been prepared on the canvas, a short proposal (less than 500 words) regarding the problem you want to solve along with the data and modeling that you will use. Proposals will be assessed qualitatively first to ensure each group's project is unique. If there are the same data options, only proposals from the group that collected first are accepted. You may use the algorithms used in individual tasks, but may not work on the same project or use the same data. You are free to use any python library. If the proposal is complete and valid, it will automatically get a score of 20 points.\"\"\"\n",
    "\n",
    "print(f\"English Text To Translate: {src_text}\\n\")\n",
    "print(\"Replacing special characters except comma with with periods(.)\\n\")\n",
    "src_text = src_text.replace(\"!\",\".\").replace(\":\",\".\")\n",
    "\n",
    "print(\"Normalizing english text to translate...\")\n",
    "src_text = lowercase_text(remove_extra_spaces(src_text))\n",
    "print(f\"Normalized text: {src_text}\\n\")\n",
    "\n",
    "print(\"Tokenizing text to translate...\")\n",
    "sentences = [(sentence+\". \").strip() for sentence in src_text.split(\".\") if len(sentence) > 0]\n",
    "print(f\"Tokenized results: {sentences}\\n\")\n",
    "\n",
    "translation_results = \"\"\n",
    "for sentence in sentences:\n",
    "    print(f'Translating {sentence}...')\n",
    "    model_inputs = tokenizer(sentence, return_tensors=\"pt\").to(\"cuda\")\n",
    "\n",
    "    generated_tokens = model.generate(\n",
    "        **model_inputs,\n",
    "        forced_bos_token_id=tokenizer.lang_code_to_id[\"id_ID\"],\n",
    "    )\n",
    "\n",
    "    translation = tokenizer.batch_decode(\n",
    "        generated_tokens, skip_special_tokens=True)\n",
    "    sentence_translate_result = translation[0].strip()\n",
    "    print(f'Translate result: {sentence_translate_result}\\n')\n",
    "    translation_results += sentence_translate_result\n",
    "\n",
    "print(\"Final Translation Results:\")\n",
    "final_translations = translation_results.replace(\".\",\". \").strip()\n",
    "print(final_translations)"
   ]
  }
 ],
 "metadata": {
  "kernelspec": {
   "display_name": "Python 3.9.19 ('uas-nlp')",
   "language": "python",
   "name": "python3"
  },
  "language_info": {
   "codemirror_mode": {
    "name": "ipython",
    "version": 3
   },
   "file_extension": ".py",
   "mimetype": "text/x-python",
   "name": "python",
   "nbconvert_exporter": "python",
   "pygments_lexer": "ipython3",
   "version": "3.10.14"
  },
  "orig_nbformat": 4,
  "vscode": {
   "interpreter": {
    "hash": "317eb77077ba5247a83842478e76361b485ac8e1800fe36a66d95832bc76bd83"
   }
  }
 },
 "nbformat": 4,
 "nbformat_minor": 2
}
