{
 "cells": [
  {
   "cell_type": "markdown",
   "metadata": {},
   "source": [
    "<!DOCTYPE html>\n",
    "<html lang=\"en\">\n",
    "    <head>\n",
    "        <meta charset=\"UTF-8\" />\n",
    "        <meta http-equiv=\"X-UA-Compatible\" content=\"IE=edge\" />\n",
    "        <meta name=\"viewport\" content=\"width=device-width, initial-scale=1.0\" />\n",
    "        <title>UAS NLP</title>\n",
    "        <style>\n",
    "            body {\n",
    "                font-family: Arial, sans-serif;\n",
    "                background-color: #f0f0f0;\n",
    "                margin: 0;\n",
    "                padding: 0;\n",
    "            }\n",
    "            .container {\n",
    "                text-align: center;\n",
    "                margin-top: 50px;\n",
    "            }\n",
    "            h1 {\n",
    "                color: #fff; /* Adjusted color for dark mode */\n",
    "                font-size: 36px;\n",
    "                margin-bottom: 10px;\n",
    "            }\n",
    "            h2 {\n",
    "                color: #ccc; /* Adjusted color for dark mode */\n",
    "                font-size: 24px;\n",
    "                margin-bottom: 20px;\n",
    "            }\n",
    "            .members {\n",
    "                font-size: 18px;\n",
    "                line-height: 1.6;\n",
    "                margin-top: 20px;\n",
    "            }\n",
    "            .member {\n",
    "                display: block;\n",
    "                margin-bottom: 10px;\n",
    "            }\n",
    "        </style>\n",
    "    </head>\n",
    "    <body>\n",
    "        <div class=\"container\">\n",
    "            <h1>Ujian Akhir Semester</h1>\n",
    "            <h2>IBDA3322 / Natural Language Processing</h2>\n",
    "            <p class=\"members\">\n",
    "                <span class=\"member\">Jennifer Atalya (202000208)</span>\n",
    "                <span class=\"member\">Renata Valencia (202001021)</span>\n",
    "                <span class=\"member\">Stefannus Christian (202000138)</span>\n",
    "            </p>\n",
    "        </div>\n",
    "    </body>\n",
    "</html>"
   ]
  },
  {
   "cell_type": "markdown",
   "metadata": {},
   "source": [
    "# Import Libraries"
   ]
  },
  {
   "cell_type": "code",
   "execution_count": 1,
   "metadata": {},
   "outputs": [],
   "source": [
    "# Import libraries\n",
    "from transformers import (\n",
    "    MBart50TokenizerFast,\n",
    "    MBartForConditionalGeneration,\n",
    "    Seq2SeqTrainingArguments,\n",
    "    DataCollatorForSeq2Seq,\n",
    "    Seq2SeqTrainer,\n",
    "    EarlyStoppingCallback\n",
    ")\n",
    "import csv\n",
    "import re\n",
    "import os\n",
    "import matplotlib.pyplot as plt\n",
    "import pandas as pd\n",
    "import numpy as np\n",
    "import pickle\n",
    "import evaluate\n",
    "from datasets import load_dataset\n",
    "import warnings\n",
    "# Ignore warnings (not recommended for production)\n",
    "warnings.filterwarnings('ignore')"
   ]
  },
  {
   "cell_type": "markdown",
   "metadata": {},
   "source": [
    "# Define Global Variables"
   ]
  },
  {
   "cell_type": "code",
   "execution_count": 2,
   "metadata": {},
   "outputs": [
    {
     "name": "stdout",
     "output_type": "stream",
     "text": [
      "Will save training results csv to ./training_results/training_results.csv\n",
      "Will save log results (log_history, bleu_log, meteor_log, eval_log) to ./training_results/log.pkl\n"
     ]
    }
   ],
   "source": [
    "# Define training parameters\n",
    "TRAIN: bool = True  # Set to True to train the model\n",
    "SEED = 42  # Random seed for reproducibility\n",
    "\n",
    "# Define model and data paths\n",
    "MODEL_PATH = \"model/mbart-large-50-one-to-many-mmt-finetuned-en-to-id\"\n",
    "NUMBER_OF_DATA_TO_FINETUNED = 2000  # Limit data used for fine-tuning\n",
    "PREFIX = \"\"  # Prefix to add before source language text\n",
    "SOURCE_LANG = \"en\"  # Source language\n",
    "TARGET_LANG = \"id\"  # Target language\n",
    "MAX_INPUT_LENGTH = 128  # Maximum length of input sequence\n",
    "MAX_TARGET_LENGTH = 128  # Maximum length of target sequence\n",
    "\n",
    "TRAINING_RESULTS_DIRECTORY_BASE_PATH = \"./training_results/\"\n",
    "TRAINING_RESULTS_FILENAME = \"training_results.csv\"\n",
    "LOG_RESULTS_FILENAME = \"log.pkl\"\n",
    "\n",
    "TRAINING_RESULTS_PATH = os.path.join(TRAINING_RESULTS_DIRECTORY_BASE_PATH, TRAINING_RESULTS_FILENAME)\n",
    "LOG_RESULTS_PATH = os.path.join(TRAINING_RESULTS_DIRECTORY_BASE_PATH, LOG_RESULTS_FILENAME)\n",
    "\n",
    "print(f'Will save training results csv to {TRAINING_RESULTS_PATH}')\n",
    "print(f'Will save log results (log_history, bleu_log, meteor_log, eval_log) to {LOG_RESULTS_PATH}')"
   ]
  },
  {
   "cell_type": "markdown",
   "metadata": {},
   "source": [
    "# Load Raw Datasets"
   ]
  },
  {
   "cell_type": "code",
   "execution_count": 3,
   "metadata": {},
   "outputs": [
    {
     "data": {
      "text/plain": [
       "DatasetDict({\n",
       "    test: Dataset({\n",
       "        features: ['translation'],\n",
       "        num_rows: 2000\n",
       "    })\n",
       "    train: Dataset({\n",
       "        features: ['translation'],\n",
       "        num_rows: 1000000\n",
       "    })\n",
       "    validation: Dataset({\n",
       "        features: ['translation'],\n",
       "        num_rows: 2000\n",
       "    })\n",
       "})"
      ]
     },
     "metadata": {},
     "output_type": "display_data"
    }
   ],
   "source": [
    "# Load dataset\n",
    "raw_datasets = load_dataset(\"Helsinki-NLP/opus-100\", \"en-id\")\n",
    "model_mbart = 'facebook/mbart-large-50-one-to-many-mmt'\n",
    "display(raw_datasets)  # View dataset information"
   ]
  },
  {
   "cell_type": "code",
   "execution_count": 4,
   "metadata": {},
   "outputs": [],
   "source": [
    "# Load tokenizer for the pre-trained model\n",
    "tokenizer = MBart50TokenizerFast.from_pretrained(\n",
    "    model_mbart, src_lang=\"en_XX\", tgt_lang=\"id_ID\"\n",
    ")"
   ]
  },
  {
   "cell_type": "code",
   "execution_count": 5,
   "metadata": {},
   "outputs": [],
   "source": [
    "def lowercase_text(text: str) -> str:\n",
    "    text = text.lower()\n",
    "    return text\n",
    "\n",
    "def remove_extra_spaces(text :str) -> str:\n",
    "    \"\"\"\n",
    "    Removes extra spaces from a string using regular expression.\n",
    "\n",
    "    Args:\n",
    "    - text (str): The input text with extra spaces.\n",
    "\n",
    "    Returns:\n",
    "    - str: The text with extra spaces removed.\n",
    "    \"\"\"\n",
    "    # Use regular expression to substitute multiple spaces with a single space\n",
    "    cleaned_text = re.sub(' +', ' ', text)\n",
    "    return cleaned_text.strip()\n",
    "\n",
    "def preprocess_function(examples):\n",
    "    \"\"\"\n",
    "    Preprocess data examples:\n",
    "        - Add prefix to source language text\n",
    "        - Lowercase source language text\n",
    "        - Remove extra spaces from source and target language text\n",
    "        - Encode text with tokenizer\n",
    "    \"\"\"\n",
    "    # Lowercase source language text and remove extra spaces\n",
    "    inputs = [PREFIX + lowercase_text(remove_extra_spaces(ex[SOURCE_LANG])) for ex in examples[\"translation\"]]\n",
    "    # Lowercase target language text and remove extra spaces\n",
    "    targets = [lowercase_text(remove_extra_spaces(ex[TARGET_LANG])) for ex in examples[\"translation\"]]\n",
    "\n",
    "    model_inputs = tokenizer(\n",
    "        inputs, max_length=MAX_INPUT_LENGTH, truncation=True)\n",
    "\n",
    "    # Set tokenizer for target language\n",
    "    with tokenizer.as_target_tokenizer():\n",
    "        labels = tokenizer(\n",
    "            targets, max_length=MAX_TARGET_LENGTH, truncation=True)\n",
    "    model_inputs[\"labels\"] = labels[\"input_ids\"]\n",
    "    return model_inputs"
   ]
  },
  {
   "cell_type": "code",
   "execution_count": 6,
   "metadata": {},
   "outputs": [
    {
     "data": {
      "text/plain": [
       "'the quick brown fox'"
      ]
     },
     "execution_count": 6,
     "metadata": {},
     "output_type": "execute_result"
    }
   ],
   "source": [
    "lowercase_text(remove_extra_spaces(\"  The     quICk brown    FOX \"))"
   ]
  },
  {
   "cell_type": "code",
   "execution_count": 7,
   "metadata": {},
   "outputs": [
    {
     "data": {
      "application/vnd.jupyter.widget-view+json": {
       "model_id": "5765d7f727964517b61e800606e7cae2",
       "version_major": 2,
       "version_minor": 0
      },
      "text/plain": [
       "Map:   0%|          | 0/2000 [00:00<?, ? examples/s]"
      ]
     },
     "metadata": {},
     "output_type": "display_data"
    },
    {
     "name": "stdout",
     "output_type": "stream",
     "text": [
      "Number of train tokenized data: 1000000\n",
      "Number of eval tokenized data: 2000\n",
      "Number of small_train_dataset 2000\n",
      "Number of small_eval_dataset 2000\n"
     ]
    }
   ],
   "source": [
    "# Preprocess dataset\n",
    "tokenized_datasets = raw_datasets.map(preprocess_function, batched=True)\n",
    "\n",
    "# Split datasets into train and validation sets\n",
    "train_tokenized_dataset = tokenized_datasets[\"train\"]\n",
    "eval_tokenized_dataset = tokenized_datasets[\"validation\"]\n",
    "print(f\"Number of train tokenized data: {len(train_tokenized_dataset)}\")\n",
    "print(f\"Number of eval tokenized data: {len(eval_tokenized_dataset)}\")\n",
    "\n",
    "# Select a small subset of data for fine-tuning (for faster training)\n",
    "small_train_dataset = train_tokenized_dataset.shuffle(\n",
    "    seed=SEED).select(range(NUMBER_OF_DATA_TO_FINETUNED))\n",
    "small_eval_dataset = eval_tokenized_dataset.shuffle(\n",
    "    seed=SEED).select(range(NUMBER_OF_DATA_TO_FINETUNED))\n",
    "\n",
    "print(f\"Number of small_train_dataset {len(small_train_dataset)}\")\n",
    "print(f\"Number of small_eval_dataset {len(small_eval_dataset)}\")"
   ]
  },
  {
   "cell_type": "code",
   "execution_count": 8,
   "metadata": {},
   "outputs": [],
   "source": [
    "# Load pre-trained model (make sure to use 'cuda' for GPU training)\n",
    "model = MBartForConditionalGeneration.from_pretrained(model_mbart).cuda()"
   ]
  },
  {
   "cell_type": "code",
   "execution_count": 9,
   "metadata": {},
   "outputs": [],
   "source": [
    "# Define training hyperparameters\n",
    "hyperparameters = {\n",
    "    'learning_rate': 2e-5,\n",
    "    'batch_size': 8,\n",
    "    'num_epochs': 10\n",
    "}\n",
    "\n",
    "# Define training arguments (`Seq2SeqTrainingArguments`)\n",
    "args = Seq2SeqTrainingArguments(\n",
    "    # Create a name for your fine-tuned model\n",
    "    f\"{MODEL_PATH.split('/')[-1]}-finetuned-{SOURCE_LANG}-to-{TARGET_LANG}\",\n",
    "    # Evaluate the model after every epoch\n",
    "    evaluation_strategy=\"epoch\",\n",
    "    # Save the model after every epoch\n",
    "    save_strategy=\"epoch\",\n",
    "    # Set learning rate from hyperparameters\n",
    "    learning_rate=hyperparameters[\"learning_rate\"],\n",
    "    # Batch size for training on a single device\n",
    "    per_device_train_batch_size=hyperparameters[\"batch_size\"],\n",
    "    # Batch size for evaluation on a single device\n",
    "    per_device_eval_batch_size=hyperparameters[\"batch_size\"],\n",
    "    # Weight decay to avoid overfitting\n",
    "    weight_decay=0.01,\n",
    "    # Limit number of saved models during training\n",
    "    save_total_limit=hyperparameters[\"num_epochs\"],\n",
    "    # Set the total number of training epochs\n",
    "    num_train_epochs=hyperparameters[\"num_epochs\"],\n",
    "    # Generate text with beam search during evaluation\n",
    "    predict_with_generate=True,\n",
    "    # Load the best model from the training process for evaluation\n",
    "    load_best_model_at_end=True,\n",
    ")"
   ]
  },
  {
   "cell_type": "code",
   "execution_count": 10,
   "metadata": {},
   "outputs": [],
   "source": [
    "# Create a data collator to prepare batches for training and evaluation\n",
    "data_collator = DataCollatorForSeq2Seq(tokenizer, model=model)"
   ]
  },
  {
   "cell_type": "code",
   "execution_count": 11,
   "metadata": {},
   "outputs": [
    {
     "name": "stderr",
     "output_type": "stream",
     "text": [
      "[nltk_data] Downloading package wordnet to\n",
      "[nltk_data]     C:\\Users\\user\\AppData\\Roaming\\nltk_data...\n",
      "[nltk_data]   Package wordnet is already up-to-date!\n",
      "[nltk_data] Downloading package punkt to\n",
      "[nltk_data]     C:\\Users\\user\\AppData\\Roaming\\nltk_data...\n",
      "[nltk_data]   Package punkt is already up-to-date!\n",
      "[nltk_data] Downloading package omw-1.4 to\n",
      "[nltk_data]     C:\\Users\\user\\AppData\\Roaming\\nltk_data...\n",
      "[nltk_data]   Package omw-1.4 is already up-to-date!\n"
     ]
    }
   ],
   "source": [
    "# Load evaluation metrics: BLEU score and METEOR\n",
    "metric = evaluate.load(\"sacrebleu\")\n",
    "meteor = evaluate.load('meteor')\n",
    "\n",
    "def postprocess_text(preds, labels):\n",
    "    preds = [pred.strip() for pred in preds]\n",
    "    labels = [[label.strip()] for label in labels]\n",
    "    return preds, labels\n",
    "\n",
    "def compute_metrics(eval_preds):\n",
    "    preds, labels = eval_preds\n",
    "    if isinstance(preds, tuple):\n",
    "        preds = preds[0]\n",
    "    decoded_preds = tokenizer.batch_decode(preds, skip_special_tokens=True)\n",
    "    # Replace -100 in the labels as we can't decode them.\n",
    "    labels = np.where(labels != -100, labels, tokenizer.pad_token_id)\n",
    "    decoded_labels = tokenizer.batch_decode(labels, skip_special_tokens=True)\n",
    "    # Some simple post-processing\n",
    "    decoded_preds, decoded_labels = postprocess_text(\n",
    "        decoded_preds, decoded_labels)\n",
    "    result = metric.compute(predictions=decoded_preds,\n",
    "                            references=decoded_labels)\n",
    "    meteor_result = meteor.compute(\n",
    "        predictions=decoded_preds, references=decoded_labels)\n",
    "    prediction_lens = [np.count_nonzero(\n",
    "        pred != tokenizer.pad_token_id) for pred in preds]\n",
    "    result = {'bleu': result['score']}\n",
    "    result[\"gen_len\"] = np.mean(prediction_lens)\n",
    "    result[\"meteor\"] = meteor_result[\"meteor\"]\n",
    "    result = {k: round(v, 4) for k, v in result.items()}\n",
    "    return result"
   ]
  },
  {
   "cell_type": "code",
   "execution_count": 12,
   "metadata": {},
   "outputs": [
    {
     "data": {
      "application/vnd.jupyter.widget-view+json": {
       "model_id": "d476f9719d3947efa5f24d24803dda1f",
       "version_major": 2,
       "version_minor": 0
      },
      "text/plain": [
       "  0%|          | 0/2500 [00:00<?, ?it/s]"
      ]
     },
     "metadata": {},
     "output_type": "display_data"
    },
    {
     "data": {
      "application/vnd.jupyter.widget-view+json": {
       "model_id": "05efcc71ddc14289be7ea60cbc36144a",
       "version_major": 2,
       "version_minor": 0
      },
      "text/plain": [
       "  0%|          | 0/250 [00:00<?, ?it/s]"
      ]
     },
     "metadata": {},
     "output_type": "display_data"
    },
    {
     "name": "stderr",
     "output_type": "stream",
     "text": [
      "Some non-default generation parameters are set in the model config. These should go into a GenerationConfig file (https://huggingface.co/docs/transformers/generation_strategies#save-a-custom-decoding-strategy-with-your-model) instead. This warning will be raised to an exception in v4.41.\n",
      "Non-default generation parameters: {'max_length': 200, 'early_stopping': True, 'num_beams': 5, 'forced_eos_token_id': 2}\n"
     ]
    },
    {
     "name": "stdout",
     "output_type": "stream",
     "text": [
      "{'eval_loss': 1.91679048538208, 'eval_bleu': 25.7045, 'eval_gen_len': 13.064, 'eval_meteor': 0.5156, 'eval_runtime': 107.2817, 'eval_samples_per_second': 18.643, 'eval_steps_per_second': 2.33, 'epoch': 1.0}\n",
      "{'loss': 1.7212, 'grad_norm': 7.261785984039307, 'learning_rate': 1.6000000000000003e-05, 'epoch': 2.0}\n"
     ]
    },
    {
     "data": {
      "application/vnd.jupyter.widget-view+json": {
       "model_id": "c0b2691cf5ad41a7aad6d7b3ce8a1dc4",
       "version_major": 2,
       "version_minor": 0
      },
      "text/plain": [
       "  0%|          | 0/250 [00:00<?, ?it/s]"
      ]
     },
     "metadata": {},
     "output_type": "display_data"
    },
    {
     "name": "stderr",
     "output_type": "stream",
     "text": [
      "Some non-default generation parameters are set in the model config. These should go into a GenerationConfig file (https://huggingface.co/docs/transformers/generation_strategies#save-a-custom-decoding-strategy-with-your-model) instead. This warning will be raised to an exception in v4.41.\n",
      "Non-default generation parameters: {'max_length': 200, 'early_stopping': True, 'num_beams': 5, 'forced_eos_token_id': 2}\n"
     ]
    },
    {
     "name": "stdout",
     "output_type": "stream",
     "text": [
      "{'eval_loss': 1.9522719383239746, 'eval_bleu': 25.6988, 'eval_gen_len': 12.81, 'eval_meteor': 0.5098, 'eval_runtime': 105.7829, 'eval_samples_per_second': 18.907, 'eval_steps_per_second': 2.363, 'epoch': 2.0}\n"
     ]
    },
    {
     "data": {
      "application/vnd.jupyter.widget-view+json": {
       "model_id": "2190fefeae9a4957a4fa62658e659583",
       "version_major": 2,
       "version_minor": 0
      },
      "text/plain": [
       "  0%|          | 0/250 [00:00<?, ?it/s]"
      ]
     },
     "metadata": {},
     "output_type": "display_data"
    },
    {
     "name": "stderr",
     "output_type": "stream",
     "text": [
      "Some non-default generation parameters are set in the model config. These should go into a GenerationConfig file (https://huggingface.co/docs/transformers/generation_strategies#save-a-custom-decoding-strategy-with-your-model) instead. This warning will be raised to an exception in v4.41.\n",
      "Non-default generation parameters: {'max_length': 200, 'early_stopping': True, 'num_beams': 5, 'forced_eos_token_id': 2}\n"
     ]
    },
    {
     "name": "stdout",
     "output_type": "stream",
     "text": [
      "{'eval_loss': 2.091963291168213, 'eval_bleu': 25.1044, 'eval_gen_len': 12.8095, 'eval_meteor': 0.5069, 'eval_runtime': 102.3342, 'eval_samples_per_second': 19.544, 'eval_steps_per_second': 2.443, 'epoch': 3.0}\n"
     ]
    },
    {
     "name": "stderr",
     "output_type": "stream",
     "text": [
      "There were missing keys in the checkpoint model loaded: ['model.encoder.embed_tokens.weight', 'model.decoder.embed_tokens.weight', 'lm_head.weight'].\n",
      "Some non-default generation parameters are set in the model config. These should go into a GenerationConfig file (https://huggingface.co/docs/transformers/generation_strategies#save-a-custom-decoding-strategy-with-your-model) instead. This warning will be raised to an exception in v4.41.\n",
      "Non-default generation parameters: {'max_length': 200, 'early_stopping': True, 'num_beams': 5, 'forced_eos_token_id': 2}\n"
     ]
    },
    {
     "name": "stdout",
     "output_type": "stream",
     "text": [
      "{'train_runtime': 478.3445, 'train_samples_per_second': 41.811, 'train_steps_per_second': 5.226, 'train_loss': 1.4489441731770833, 'epoch': 3.0}\n"
     ]
    }
   ],
   "source": [
    "if not os.path.exists(TRAINING_RESULTS_PATH):\n",
    "    os.makedirs(TRAINING_RESULTS_PATH)\n",
    "\n",
    "if TRAIN:\n",
    "\n",
    "    trainer = Seq2SeqTrainer(\n",
    "        model,\n",
    "        args,\n",
    "        train_dataset=small_train_dataset,\n",
    "        eval_dataset=small_eval_dataset,\n",
    "        data_collator=data_collator,\n",
    "\n",
    "        tokenizer=tokenizer,\n",
    "\n",
    "        compute_metrics=compute_metrics,\n",
    "\n",
    "        callbacks=[EarlyStoppingCallback(early_stopping_patience=2)]\n",
    "    )\n",
    "    trainer.train()\n",
    "\n",
    "    trainer.save_model(MODEL_PATH)\n",
    "\n",
    "\n",
    "    log_history = pd.DataFrame(trainer.state.log_history)\n",
    "\n",
    "    bleu_log = log_history[\"eval_bleu\"].dropna().to_list()\n",
    "\n",
    "    meteor_log = log_history[\"eval_meteor\"].dropna().to_list()\n",
    "\n",
    "    eval_log = log_history[\"eval_loss\"].dropna().to_list()\n",
    "\n",
    "    # Save the variables using pickle\n",
    "\n",
    "    with open(LOG_RESULTS_PATH, \"wb\") as f:\n",
    "\n",
    "        pickle.dump((log_history, bleu_log, meteor_log, eval_log), f)\n",
    "\n",
    "else:\n",
    "\n",
    "    # Load the saved variables using pickle\n",
    "\n",
    "    with open(LOG_RESULTS_PATH, \"rb\") as f:\n",
    "\n",
    "        log_history, bleu_log, meteor_log, eval_log = pickle.load(f)"
   ]
  },
  {
   "cell_type": "code",
   "execution_count": 13,
   "metadata": {},
   "outputs": [
    {
     "data": {
      "image/png": "[encoded data removed]",
      "text/plain": [
       "<Figure size 2000x1000 with 4 Axes>"
      ]
     },
     "metadata": {},
     "output_type": "display_data"
    }
   ],
   "source": [
    "fig, ax = plt.subplots(2, 2, figsize=(20, 10))\n",
    "plt.subplot(2, 2, 1)\n",
    "plt.plot(range(len(bleu_log)), bleu_log, label='BLEU Score')\n",
    "plt.title(\"BLEU Score\")\n",
    "plt.xlabel('Epoch')\n",
    "plt.ylabel('Score')\n",
    "\n",
    "plt.subplot(2, 2, 2)\n",
    "plt.plot(range(len(meteor_log)), meteor_log, label='METEOR Score')\n",
    "plt.title(\"METEOR Score\")\n",
    "plt.xlabel('Epoch')\n",
    "plt.ylabel('Score')\n",
    "\n",
    "plt.subplot(2, 2, 3)\n",
    "plt.plot(range(len(eval_log)), eval_log, label='Generation Length')\n",
    "plt.title(\"Validation Loss\")\n",
    "plt.xlabel('Epoch')\n",
    "plt.ylabel('Score')\n",
    "\n",
    "plt.legend()\n",
    "plt.show()"
   ]
  },
  {
   "cell_type": "code",
   "execution_count": 14,
   "metadata": {},
   "outputs": [],
   "source": [
    "rows = []\n",
    "for i in range(len(bleu_log)):\n",
    "    row = {\n",
    "        'Epoch': i+1,\n",
    "        'BLEU': bleu_log[i],\n",
    "        'METEOR': meteor_log[i],\n",
    "        'validation_loss': eval_log[i],\n",
    "    }\n",
    "    rows.append(row)\n",
    "\n",
    "# Define the fieldnames for the CSV file\n",
    "fieldnames = ['Epoch', 'BLEU', 'METEOR', 'validation_loss']\n",
    "\n",
    "# Write the rows to a CSV file\n",
    "with open(TRAINING_RESULTS_PATH, 'w', newline='') as csvfile:\n",
    "    writer = csv.DictWriter(csvfile, fieldnames=fieldnames)\n",
    "    writer.writeheader()\n",
    "    for row in rows:\n",
    "        writer.writerow(row)"
   ]
  },
  {
   "cell_type": "code",
   "execution_count": 19,
   "metadata": {},
   "outputs": [
    {
     "name": "stdout",
     "output_type": "stream",
     "text": [
      "['this model is a fine-tuned checkpoint of mbart-large-50.', 'mbart-large-50-many-to-many-mmt is fine-tuned for multilingual machine translation.', 'it was introduced in multilingual translation with extensible multilingual pretraining and finetuning paper.']\n",
      "\n",
      "model ini adalah periksa dari mbart-large-50.mbart-large-50-many-to-many-mmt tersusun untuk penerjemah mesin multilingual.ini diperkenalkan pada penerjemahan multilingual dengan ekstensible multilingual pretraining dan kertas finetuning.\n"
     ]
    }
   ],
   "source": [
    "tokenizer = MBart50TokenizerFast.from_pretrained(MODEL_PATH, src_lang=\"en_XX\")\n",
    "model = MBartForConditionalGeneration.from_pretrained(MODEL_PATH).cuda()\n",
    "\n",
    "src_text =  \"This model is a fine-tuned checkpoint of mBART-large-50. mbart-large-50-many-to-many-mmt is fine-tuned for multilingual machine translation. It was introduced in Multilingual Translation with Extensible Multilingual Pretraining and Finetuning paper.\"\n",
    "\n",
    "src_text = src_text.replace(\"!\",\".\")\n",
    "src_text = lowercase_text(remove_extra_spaces(src_text))\n",
    "sentences = [(sentence+\". \").strip() for sentence in src_text.split(\".\") if len(sentence) > 0]\n",
    "print(sentences)\n",
    "\n",
    "translation_results = \"\"\n",
    "for sentence in sentences:\n",
    "    model_inputs = tokenizer(sentence, return_tensors=\"pt\").to(\"cuda\")\n",
    "\n",
    "    generated_tokens = model.generate(\n",
    "        **model_inputs,\n",
    "        forced_bos_token_id=tokenizer.lang_code_to_id[\"id_ID\"],\n",
    "    )\n",
    "\n",
    "    translation = tokenizer.batch_decode(\n",
    "        generated_tokens, skip_special_tokens=True)\n",
    "    translation_results += translation[0].strip()\n",
    "\n",
    "print()\n",
    "print(translation_results)"
   ]
  }
 ],
 "metadata": {
  "kernelspec": {
   "display_name": "Python 3.9.19 ('uas-nlp')",
   "language": "python",
   "name": "python3"
  },
  "language_info": {
   "codemirror_mode": {
    "name": "ipython",
    "version": 3
   },
   "file_extension": ".py",
   "mimetype": "text/x-python",
   "name": "python",
   "nbconvert_exporter": "python",
   "pygments_lexer": "ipython3",
   "version": "3.10.14"
  },
  "orig_nbformat": 4,
  "vscode": {
   "interpreter": {
    "hash": "317eb77077ba5247a83842478e76361b485ac8e1800fe36a66d95832bc76bd83"
   }
  }
 },
 "nbformat": 4,
 "nbformat_minor": 2
}
