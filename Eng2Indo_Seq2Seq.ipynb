{
 "cells": [
  {
   "cell_type": "code",
   "execution_count": 2,
   "metadata": {
    "_cell_guid": "b1076dfc-b9ad-4769-8c92-a6c4dae69d19",
    "_uuid": "8f2839f25d086af736a60e9eeb907d3b93b6e0e5",
    "execution": {
     "iopub.execute_input": "2021-03-30T10:22:04.452141Z",
     "iopub.status.busy": "2021-03-30T10:22:04.451310Z",
     "iopub.status.idle": "2021-03-30T10:22:07.348580Z",
     "shell.execute_reply": "2021-03-30T10:22:07.347373Z"
    },
    "papermill": {
     "duration": 2.926082,
     "end_time": "2021-03-30T10:22:07.348806",
     "exception": false,
     "start_time": "2021-03-30T10:22:04.422724",
     "status": "completed"
    },
    "tags": []
   },
   "outputs": [],
   "source": [
    "import warnings\n",
    "warnings.filterwarnings(\"ignore\")\n",
    "import time\n",
    "import math\n",
    "import pickle\n",
    "\n",
    "import matplotlib.pyplot as plt\n",
    "import matplotlib.ticker as ticker\n",
    "from prettytable import PrettyTable\n",
    "\n",
    "import torch\n",
    "import torch.nn as nn\n",
    "from torch import optim\n",
    "import torch.nn.functional as F\n",
    "import  nltk.translate.bleu_score as bleu\n",
    "from matplotlib.font_manager import FontProperties\n",
    "\n",
    "from io import open\n",
    "import unicodedata\n",
    "import re\n",
    "import random\n",
    "import os\n",
    "\n",
    "random.seed(42)"
   ]
  },
  {
   "cell_type": "code",
   "execution_count": 3,
   "metadata": {
    "execution": {
     "iopub.execute_input": "2021-03-30T10:22:07.404838Z",
     "iopub.status.busy": "2021-03-30T10:22:07.404056Z",
     "iopub.status.idle": "2021-03-30T10:22:07.406761Z",
     "shell.execute_reply": "2021-03-30T10:22:07.406349Z"
    },
    "papermill": {
     "duration": 0.034396,
     "end_time": "2021-03-30T10:22:07.406890",
     "exception": false,
     "start_time": "2021-03-30T10:22:07.372494",
     "status": "completed"
    },
    "tags": []
   },
   "outputs": [],
   "source": [
    "### Some parameters (Details in coming sections)\n",
    "SOS_token = 0\n",
    "EOS_token = 1\n",
    "UNK_token = 2\n",
    "\n",
    "MAX_LENGTH = 20\n",
    "teacher_forcing_ratio = 0.5\n",
    "hidden_size = 1000"
   ]
  },
  {
   "cell_type": "markdown",
   "metadata": {
    "papermill": {
     "duration": 0.022771,
     "end_time": "2021-03-30T10:22:07.453110",
     "exception": false,
     "start_time": "2021-03-30T10:22:07.430339",
     "status": "completed"
    },
    "tags": []
   },
   "source": [
    "# 2. Data Preparation"
   ]
  },
  {
   "cell_type": "code",
   "execution_count": 4,
   "metadata": {},
   "outputs": [
    {
     "name": "stdout",
     "output_type": "stream",
     "text": [
      "corpus\\eng-indo.txt\n"
     ]
    }
   ],
   "source": [
    "CORPUS_BASE_PATH = r\"corpus\"\n",
    "CORPUS_FILENAME = r\"eng-indo.txt\"\n",
    "CORPUS_PATH = os.path.join(CORPUS_BASE_PATH, CORPUS_FILENAME)\n",
    "print(CORPUS_PATH)"
   ]
  },
  {
   "cell_type": "code",
   "execution_count": 5,
   "metadata": {
    "execution": {
     "iopub.execute_input": "2021-03-30T10:22:07.502696Z",
     "iopub.status.busy": "2021-03-30T10:22:07.502188Z",
     "iopub.status.idle": "2021-03-30T10:22:07.545063Z",
     "shell.execute_reply": "2021-03-30T10:22:07.545545Z"
    },
    "papermill": {
     "duration": 0.069798,
     "end_time": "2021-03-30T10:22:07.545688",
     "exception": false,
     "start_time": "2021-03-30T10:22:07.475890",
     "status": "completed"
    },
    "tags": []
   },
   "outputs": [
    {
     "data": {
      "text/plain": [
       "[['Then what?', 'Terus kenapa?'],\n",
       " ['Tom cried.', 'Tom menangis.'],\n",
       " ['Try again.', 'Coba lagi.'],\n",
       " ['Turn left.', 'Belok kiri.'],\n",
       " ['Watch out!', 'Awas!'],\n",
       " ['Well done!', 'Kerja yang bagus!'],\n",
       " ['Well done!', 'Kerja bagus!'],\n",
       " ['What else?', 'Apa lagi?'],\n",
       " [\"What's up?\", 'Ada apa?'],\n",
       " ['Who is he?', 'Dia siapa?']]"
      ]
     },
     "execution_count": 5,
     "metadata": {},
     "output_type": "execute_result"
    }
   ],
   "source": [
    "data = open(CORPUS_PATH, encoding='utf-8').read().strip().split('\\n')\n",
    "pairs = [[s for s in l.split('\\t')[:2]] for l in data]\n",
    "pairs[100:110]"
   ]
  },
  {
   "cell_type": "markdown",
   "metadata": {
    "papermill": {
     "duration": 0.023456,
     "end_time": "2021-03-30T10:22:07.592631",
     "exception": false,
     "start_time": "2021-03-30T10:22:07.569175",
     "status": "completed"
    },
    "tags": []
   },
   "source": [
    "Now, we need the data in a format that is easy to process and feed. We’ll need a unique index per word to use as the inputs and targets of the networks later. To keep track of all this we will use a helper class called Lang which has word → index (word2index) and index → word (index2word) dictionaries, as well as a count of each word word2count to use to later replace rare words."
   ]
  },
  {
   "cell_type": "code",
   "execution_count": 6,
   "metadata": {
    "execution": {
     "iopub.execute_input": "2021-03-30T10:22:07.645844Z",
     "iopub.status.busy": "2021-03-30T10:22:07.645287Z",
     "iopub.status.idle": "2021-03-30T10:22:07.649489Z",
     "shell.execute_reply": "2021-03-30T10:22:07.649031Z"
    },
    "papermill": {
     "duration": 0.033853,
     "end_time": "2021-03-30T10:22:07.649607",
     "exception": false,
     "start_time": "2021-03-30T10:22:07.615754",
     "status": "completed"
    },
    "tags": []
   },
   "outputs": [],
   "source": [
    "class Lang:\n",
    "    def __init__(self, name):\n",
    "        self.name = name\n",
    "        self.word2index = {\"SOS\": 0, \"EOS\": 1, \"UNK\": 2}\n",
    "        self.word2count = {}\n",
    "        self.index2word = {0: \"SOS\", 1: \"EOS\", 2: \"UNK\"}\n",
    "        self.n_words = 3  # Count SOS and EOS\n",
    "\n",
    "    def addSentence(self, sentence):\n",
    "        for word in sentence.split(' '):\n",
    "            self.addWord(word)\n",
    "\n",
    "    def addWord(self, word):\n",
    "        if word not in self.word2index:\n",
    "            self.word2index[word] = self.n_words\n",
    "            self.word2count[word] = 1\n",
    "            self.index2word[self.n_words] = word\n",
    "            self.n_words += 1\n",
    "        else:\n",
    "            self.word2count[word] += 1"
   ]
  },
  {
   "cell_type": "markdown",
   "metadata": {
    "papermill": {
     "duration": 0.023879,
     "end_time": "2021-03-30T10:22:07.797008",
     "exception": false,
     "start_time": "2021-03-30T10:22:07.773129",
     "status": "completed"
    },
    "tags": []
   },
   "source": [
    "A function to read the data and to create objects of the Lang Class"
   ]
  },
  {
   "cell_type": "code",
   "execution_count": 7,
   "metadata": {
    "execution": {
     "iopub.execute_input": "2021-03-30T10:22:07.852342Z",
     "iopub.status.busy": "2021-03-30T10:22:07.851590Z",
     "iopub.status.idle": "2021-03-30T10:22:07.854498Z",
     "shell.execute_reply": "2021-03-30T10:22:07.854092Z"
    },
    "papermill": {
     "duration": 0.033497,
     "end_time": "2021-03-30T10:22:07.854615",
     "exception": false,
     "start_time": "2021-03-30T10:22:07.821118",
     "status": "completed"
    },
    "tags": []
   },
   "outputs": [],
   "source": [
    "def readLangs(lang1, lang2, reverse=False):\n",
    "    print(\"Started Loading Data...\")\n",
    "    print(\"Reading lines...\")\n",
    "\n",
    "   # Read the file and split into lines\n",
    "    lines = open(f'{CORPUS_BASE_PATH}/%s-%s.txt' % (lang1, lang2), encoding='utf-8').\\\n",
    "        read().strip().split('\\n')\n",
    "\n",
    "    # Split every line into pairs and normalize\n",
    "    pairs = [[s for s in l.split('\\t')[:2]] for l in lines]\n",
    "    print(\"len\", len(pairs))\n",
    "\n",
    "    # Reverse pairs, make Lang instances\n",
    "    if reverse:\n",
    "        pairs = [list(reversed(p)) for p in pairs]\n",
    "        input_lang = Lang(lang2)\n",
    "        output_lang = Lang(lang1)\n",
    "    else:\n",
    "        input_lang = Lang(lang1)\n",
    "        output_lang = Lang(lang2)\n",
    "\n",
    "    return input_lang, output_lang, pairs"
   ]
  },
  {
   "cell_type": "markdown",
   "metadata": {
    "papermill": {
     "duration": 0.026637,
     "end_time": "2021-03-30T10:22:07.908063",
     "exception": false,
     "start_time": "2021-03-30T10:22:07.881426",
     "status": "completed"
    },
    "tags": []
   },
   "source": [
    "A function to filter data based on sequence lenght if needed"
   ]
  },
  {
   "cell_type": "code",
   "execution_count": 8,
   "metadata": {
    "execution": {
     "iopub.execute_input": "2021-03-30T10:22:07.962511Z",
     "iopub.status.busy": "2021-03-30T10:22:07.961757Z",
     "iopub.status.idle": "2021-03-30T10:22:07.964247Z",
     "shell.execute_reply": "2021-03-30T10:22:07.964656Z"
    },
    "papermill": {
     "duration": 0.03249,
     "end_time": "2021-03-30T10:22:07.964816",
     "exception": false,
     "start_time": "2021-03-30T10:22:07.932326",
     "status": "completed"
    },
    "tags": []
   },
   "outputs": [],
   "source": [
    "def filterPair(p):\n",
    "    #print(p[1])\n",
    "    try:\n",
    "        return len(p[0].split(' ')) < MAX_LENGTH and \\\n",
    "            len(p[1].split(' ')) < MAX_LENGTH\n",
    "    except:\n",
    "        print(\"Skipped this pair : \", p)\n",
    "\n",
    "\n",
    "def filterPairs(pairs):\n",
    "    return [pair for pair in pairs if filterPair(pair)]"
   ]
  },
  {
   "cell_type": "markdown",
   "metadata": {
    "papermill": {
     "duration": 0.024959,
     "end_time": "2021-03-30T10:22:08.014434",
     "exception": false,
     "start_time": "2021-03-30T10:22:07.989475",
     "status": "completed"
    },
    "tags": []
   },
   "source": [
    "A wrapper function to do the data preparation steps"
   ]
  },
  {
   "cell_type": "code",
   "execution_count": 9,
   "metadata": {
    "execution": {
     "iopub.execute_input": "2021-03-30T10:22:08.069195Z",
     "iopub.status.busy": "2021-03-30T10:22:08.068403Z",
     "iopub.status.idle": "2021-03-30T10:22:08.070912Z",
     "shell.execute_reply": "2021-03-30T10:22:08.071357Z"
    },
    "papermill": {
     "duration": 0.032966,
     "end_time": "2021-03-30T10:22:08.071498",
     "exception": false,
     "start_time": "2021-03-30T10:22:08.038532",
     "status": "completed"
    },
    "tags": []
   },
   "outputs": [],
   "source": [
    "def prepareData(lang1, lang2, reverse=False):\n",
    "    input_lang, output_lang, pairs = readLangs(lang1, lang2, reverse)\n",
    "    print(\"Read %s sentence pairs\" % len(pairs))\n",
    "    pairs = filterPairs(pairs)\n",
    "    print(\"Trimmed to %s sentence pairs\" % len(pairs))\n",
    "    print(\"Counting words...\")\n",
    "    for pair in pairs:\n",
    "        input_lang.addSentence(pair[0])\n",
    "        output_lang.addSentence(pair[1])\n",
    "    print(\"Counted words:\")\n",
    "    print(input_lang.name, input_lang.n_words)\n",
    "    print(output_lang.name, output_lang.n_words)\n",
    "    return input_lang, output_lang, pairs"
   ]
  },
  {
   "cell_type": "code",
   "execution_count": 10,
   "metadata": {
    "execution": {
     "iopub.execute_input": "2021-03-30T10:22:08.496523Z",
     "iopub.status.busy": "2021-03-30T10:22:08.495646Z",
     "iopub.status.idle": "2021-03-30T10:22:08.498154Z",
     "shell.execute_reply": "2021-03-30T10:22:08.498530Z"
    },
    "papermill": {
     "duration": 0.403166,
     "end_time": "2021-03-30T10:22:08.498688",
     "exception": false,
     "start_time": "2021-03-30T10:22:08.095522",
     "status": "completed"
    },
    "tags": []
   },
   "outputs": [
    {
     "name": "stdout",
     "output_type": "stream",
     "text": [
      "Using device: cuda\n",
      "Device Count: 1\n",
      "Current Device: 0\n",
      "Device Name: NVIDIA GeForce RTX 3050 Laptop GPU\n"
     ]
    }
   ],
   "source": [
    "# Device configuration\n",
    "def set_device():\n",
    "    device = torch.device('cuda' if torch.cuda.is_available() else 'cpu')\n",
    "    return device\n",
    "\n",
    "def print_device_info():\n",
    "    print(f\"Device Count: {torch.cuda.device_count()}\")\n",
    "    print(f\"Current Device: {torch.cuda.current_device()}\")\n",
    "    print(f\"Device Name: {torch.cuda.get_device_name(0)}\")\n",
    "\n",
    "device = set_device()\n",
    "print('Using device:', device)\n",
    "print_device_info()"
   ]
  },
  {
   "cell_type": "code",
   "execution_count": 11,
   "metadata": {
    "execution": {
     "iopub.execute_input": "2021-03-30T10:22:08.552152Z",
     "iopub.status.busy": "2021-03-30T10:22:08.551372Z",
     "iopub.status.idle": "2021-03-30T10:22:08.589896Z",
     "shell.execute_reply": "2021-03-30T10:22:08.590491Z"
    },
    "papermill": {
     "duration": 0.06739,
     "end_time": "2021-03-30T10:22:08.590680",
     "exception": false,
     "start_time": "2021-03-30T10:22:08.523290",
     "status": "completed"
    },
    "tags": []
   },
   "outputs": [
    {
     "name": "stdout",
     "output_type": "stream",
     "text": [
      "Started Loading Data...\n",
      "Reading lines...\n",
      "len 6752\n",
      "Read 6752 sentence pairs\n",
      "Trimmed to 6741 sentence pairs\n",
      "Counting words...\n",
      "Counted words:\n",
      "eng 5640\n",
      "indo 6378\n",
      "Data Loaded....See Example below - \n",
      "[\"Where there's a will, there's a way.\", 'Dimana ada kemauan, disitu ada jalan.']\n"
     ]
    }
   ],
   "source": [
    "input_lang, output_lang, pairs = prepareData('eng', 'indo', False)\n",
    "print(\"Data Loaded....See Example below - \")\n",
    "print(random.choice(pairs))"
   ]
  },
  {
   "cell_type": "code",
   "execution_count": 12,
   "metadata": {},
   "outputs": [
    {
     "name": "stdout",
     "output_type": "stream",
     "text": [
      "<__main__.Lang object at 0x000002783A4003A0>\n",
      "<__main__.Lang object at 0x00000278453BDD50>\n"
     ]
    }
   ],
   "source": [
    "print(input_lang)\n",
    "print(output_lang)"
   ]
  },
  {
   "cell_type": "code",
   "execution_count": 13,
   "metadata": {
    "execution": {
     "iopub.execute_input": "2021-03-30T10:22:08.643001Z",
     "iopub.status.busy": "2021-03-30T10:22:08.642232Z",
     "iopub.status.idle": "2021-03-30T10:22:08.645412Z",
     "shell.execute_reply": "2021-03-30T10:22:08.644949Z"
    },
    "papermill": {
     "duration": 0.030078,
     "end_time": "2021-03-30T10:22:08.645536",
     "exception": false,
     "start_time": "2021-03-30T10:22:08.615458",
     "status": "completed"
    },
    "tags": []
   },
   "outputs": [
    {
     "name": "stdout",
     "output_type": "stream",
     "text": [
      "Loading input_lang dictionary...\n",
      "Loading output_lang dictionary...\n",
      "<__main__.Lang object at 0x000002783A3ADAB0>\n",
      "<__main__.Lang object at 0x00000278481B4D60>\n"
     ]
    }
   ],
   "source": [
    "SEQ_RESULTS_BASE_PATH = r\"seq_results\"\n",
    "INPUT_LANG_PATH = os.path.join(SEQ_RESULTS_BASE_PATH, \"input.pkl\")\n",
    "OUTPUT_LANG_PATH = os.path.join(SEQ_RESULTS_BASE_PATH, \"output.pkl\")\n",
    "\n",
    "if not os.path.exists(INPUT_LANG_PATH):\n",
    "    print(\"Saving input_lang dictionary...\")\n",
    "    pickle.dump(input_lang, open(INPUT_LANG_PATH, 'wb'))\n",
    "else:\n",
    "    print(\"Loading input_lang dictionary...\")\n",
    "    with open(INPUT_LANG_PATH, 'rb') as f:\n",
    "        input_lang = pickle.load(f)\n",
    "\n",
    "if not os.path.exists(OUTPUT_LANG_PATH):\n",
    "    print(\"Saving output_lang dictionary...\")\n",
    "    pickle.dump(output_lang, open(OUTPUT_LANG_PATH, 'wb'))\n",
    "else:\n",
    "    print(\"Loading output_lang dictionary...\")\n",
    "    with open(OUTPUT_LANG_PATH, 'rb') as f:\n",
    "        output_lang = pickle.load(f)\n",
    "\n",
    "print(input_lang)\n",
    "print(output_lang)"
   ]
  },
  {
   "cell_type": "markdown",
   "metadata": {
    "papermill": {
     "duration": 0.024134,
     "end_time": "2021-03-30T10:22:08.693906",
     "exception": false,
     "start_time": "2021-03-30T10:22:08.669772",
     "status": "completed"
    },
    "tags": []
   },
   "source": [
    "Utility functions to create tensors from sentences\n",
    "\n",
    "Tensor - A tensor is a generalization of vectors and matrices and is easily understood as a multidimensional array."
   ]
  },
  {
   "cell_type": "code",
   "execution_count": 14,
   "metadata": {
    "execution": {
     "iopub.execute_input": "2021-03-30T10:22:08.756228Z",
     "iopub.status.busy": "2021-03-30T10:22:08.755304Z",
     "iopub.status.idle": "2021-03-30T10:22:08.757928Z",
     "shell.execute_reply": "2021-03-30T10:22:08.758389Z"
    },
    "papermill": {
     "duration": 0.03829,
     "end_time": "2021-03-30T10:22:08.758538",
     "exception": false,
     "start_time": "2021-03-30T10:22:08.720248",
     "status": "completed"
    },
    "tags": []
   },
   "outputs": [],
   "source": [
    "def indexesFromSentence(lang, sentence):\n",
    "    words = sentence.split(' ')\n",
    "    indexes = []\n",
    "    for word in words:\n",
    "        if word not in lang.word2index.keys():\n",
    "            indexes.append(lang.word2index[\"UNK\"])\n",
    "        else:\n",
    "            indexes.append(lang.word2index[word])\n",
    "\n",
    "    return indexes\n",
    "\n",
    "def tensorFromSentence(lang, sentence):\n",
    "    indexes = indexesFromSentence(lang, sentence)\n",
    "    indexes.append(EOS_token)\n",
    "    return torch.tensor(indexes, dtype=torch.long, device=device).view(-1, 1)\n",
    "\n",
    "def tensorsFromPair(pair):\n",
    "    input_tensor = tensorFromSentence(input_lang, pair[0])\n",
    "    target_tensor = tensorFromSentence(output_lang, pair[1])\n",
    "    return (input_tensor, target_tensor)"
   ]
  },
  {
   "cell_type": "markdown",
   "metadata": {
    "papermill": {
     "duration": 0.025102,
     "end_time": "2021-03-30T10:22:08.809197",
     "exception": false,
     "start_time": "2021-03-30T10:22:08.784095",
     "status": "completed"
    },
    "tags": []
   },
   "source": [
    "# 3. Model Architecture (The Seq2Seq Model)\n",
    "\n",
    "A Sequence to Sequence network (also known as seq2seq network, or Encoder Decoder network) is a model consisting of two RNNs called the encoder and decoder. The encoder reads an input sequence and outputs a single vector, and the decoder reads that vector to produce an output sequence.\n",
    "\n",
    "![model](https://machinelearningmastery.com/wp-content/uploads/2017/10/Encoder-Decoder-Architecture-for-Neural-Machine-Translation.png)\n",
    "\n",
    "Unlike sequence prediction with a single RNN, where every input corresponds to an output, the seq2seq model frees us from sequence length and order, which makes it ideal for translation between two languages.\n",
    "\n",
    "With a seq2seq model the encoder creates a single vector which, in the ideal case, encodes the “meaning” of the input sequence into a single vector — a single point in some N dimensional space of sentences. Let's look into the Encoder -"
   ]
  },
  {
   "cell_type": "markdown",
   "metadata": {
    "papermill": {
     "duration": 0.024715,
     "end_time": "2021-03-30T10:22:08.860518",
     "exception": false,
     "start_time": "2021-03-30T10:22:08.835803",
     "status": "completed"
    },
    "tags": []
   },
   "source": [
    "## The Encoder\n",
    "\n",
    "The encoder of a seq2seq network is a RNN that outputs some value for every word from the input sentence. For every input word the encoder outputs a vector and a hidden state, and uses the hidden state for the next input word.\n",
    "\n",
    "![](https://github.com/pashupati98/kaggle-archives/blob/main/img/gru_encoder.PNG?raw=true)\n",
    "\n",
    "### Note - Refer this [Link](https://towardsdatascience.com/recurrent-neural-networks-d4642c9bc7ce) if you aren't familiar with RNN (Recurrent Neural Network), GRU, LSTM, Hidden State etc.\n",
    "\n",
    "Let's implement an Encoder. We'll use LSTM units."
   ]
  },
  {
   "cell_type": "code",
   "execution_count": 15,
   "metadata": {
    "execution": {
     "iopub.execute_input": "2021-03-30T10:22:08.940673Z",
     "iopub.status.busy": "2021-03-30T10:22:08.939833Z",
     "iopub.status.idle": "2021-03-30T10:22:08.949274Z",
     "shell.execute_reply": "2021-03-30T10:22:08.950469Z"
    },
    "papermill": {
     "duration": 0.063768,
     "end_time": "2021-03-30T10:22:08.950711",
     "exception": false,
     "start_time": "2021-03-30T10:22:08.886943",
     "status": "completed"
    },
    "tags": []
   },
   "outputs": [],
   "source": [
    "class EncoderRNN(nn.Module):\n",
    "    def __init__(self, input_size, hidden_size, layers=1):\n",
    "        super(EncoderRNN, self).__init__()\n",
    "        self.hidden_size = hidden_size\n",
    "        self.layers = layers\n",
    "        # -----------------------------------------------------------------\n",
    "        # self.weight_matrix = create_weight_matrix()\n",
    "        # self.embedding, num_embeddings, embedding_dim = create_emb_layer(self.weight_matrix, True)\n",
    "        self.embedding = nn.Embedding(input_size, hidden_size, layers)\n",
    "\n",
    "        # -------------------------------------------------------------------\n",
    "        # self.gru = nn.GRU(embedding_dim, hidden_size)\n",
    "        self.lstm = nn.LSTM(hidden_size, hidden_size, layers)\n",
    "\n",
    "    def forward(self, input, hidden):\n",
    "        embedded = self.embedding(input).view(1, 1, -1)\n",
    "        output = embedded\n",
    "        output, hidden = self.lstm(output, hidden)\n",
    "        return output, hidden\n",
    "\n",
    "    def initHidden(self):\n",
    "        return torch.zeros(self.layers, 1, self.hidden_size, device=device), torch.zeros(self.layers, 1, self.hidden_size, device=device)"
   ]
  },
  {
   "cell_type": "markdown",
   "metadata": {
    "papermill": {
     "duration": 0.044603,
     "end_time": "2021-03-30T10:22:09.051082",
     "exception": false,
     "start_time": "2021-03-30T10:22:09.006479",
     "status": "completed"
    },
    "tags": []
   },
   "source": [
    "## The Decoder\n",
    "\n",
    "The decoder is another RNN that takes the encoder output vector(s) and outputs a sequence of words to create the translation. In the simplest seq2seq decoder we use only last output of the encoder. This last output is sometimes called the context vector as it encodes context from the entire sequence. This context vector is used as the initial hidden state of the decoder.\n",
    "\n",
    "At every step of decoding, the decoder is given an input token and hidden state. The initial input token is the start-of-string <SOS> token, and the first hidden state is the context vector (the encoder’s last hidden state).\n",
    "    \n",
    "![decoder](https://github.com/pashupati98/kaggle-archives/blob/main/img/decoder.PNG?raw=true)\n",
    "    \n",
    "Let's implement the decoder using LSTM units."
   ]
  },
  {
   "cell_type": "code",
   "execution_count": 16,
   "metadata": {
    "execution": {
     "iopub.execute_input": "2021-03-30T10:22:09.148706Z",
     "iopub.status.busy": "2021-03-30T10:22:09.147849Z",
     "iopub.status.idle": "2021-03-30T10:22:09.151924Z",
     "shell.execute_reply": "2021-03-30T10:22:09.152885Z"
    },
    "papermill": {
     "duration": 0.055836,
     "end_time": "2021-03-30T10:22:09.153106",
     "exception": false,
     "start_time": "2021-03-30T10:22:09.097270",
     "status": "completed"
    },
    "tags": []
   },
   "outputs": [],
   "source": [
    "class DecoderRNN(nn.Module):\n",
    "    def __init__(self, hidden_size, output_size):\n",
    "        super(DecoderRNN, self).__init__()\n",
    "        self.hidden_size = hidden_size\n",
    "\n",
    "        self.embedding = nn.Embedding(output_size, hidden_size)\n",
    "        self.gru = nn.GRU(hidden_size, hidden_size)\n",
    "        self.out = nn.Linear(hidden_size, output_size)\n",
    "        self.softmax = nn.LogSoftmax(dim=1)\n",
    "\n",
    "    def forward(self, input, hidden):\n",
    "        output = self.embedding(input).view(1, 1, -1)\n",
    "        output = F.relu(output)\n",
    "        output, hidden = self.gru(output, hidden)\n",
    "        output = self.softmax(self.out(output[0]))\n",
    "        return output, hidden\n",
    "\n",
    "    def initHidden(self):\n",
    "        return torch.zeros(1, 1, self.hidden_size, device=device)"
   ]
  },
  {
   "cell_type": "markdown",
   "metadata": {
    "papermill": {
     "duration": 0.03828,
     "end_time": "2021-03-30T10:22:09.230268",
     "exception": false,
     "start_time": "2021-03-30T10:22:09.191988",
     "status": "completed"
    },
    "tags": []
   },
   "source": [
    "We know have both Encoder and Decoder with us. We can go ahead and train the model. But before that Let's look into the concepts of Attention.\n",
    "\n",
    "### Attention \n",
    "\n",
    "If only the context vector is passed betweeen the encoder and decoder, that single vector carries the burden of encoding the entire sentence.\n",
    "\n",
    "Attention allows the decoder network to “focus” on a different part of the encoder’s outputs for every step of the decoder’s own outputs. First we calculate a set of attention weights. These will be multiplied by the encoder output vectors to create a weighted combination. The result (called attn_applied in the code) should contain information about that specific part of the input sequence, and thus help the decoder choose the right output words.\n",
    "\n",
    "![attn](https://github.com/pashupati98/kaggle-archives/blob/main/img/attn.PNG?raw=true)\n",
    "\n",
    "Let's implement a decoder with attention. We'll use this decoder for our final model."
   ]
  },
  {
   "cell_type": "code",
   "execution_count": 17,
   "metadata": {
    "execution": {
     "iopub.execute_input": "2021-03-30T10:22:09.318169Z",
     "iopub.status.busy": "2021-03-30T10:22:09.317352Z",
     "iopub.status.idle": "2021-03-30T10:22:09.327231Z",
     "shell.execute_reply": "2021-03-30T10:22:09.327708Z"
    },
    "papermill": {
     "duration": 0.058437,
     "end_time": "2021-03-30T10:22:09.327888",
     "exception": false,
     "start_time": "2021-03-30T10:22:09.269451",
     "status": "completed"
    },
    "tags": []
   },
   "outputs": [],
   "source": [
    "class AttnDecoderRNN(nn.Module):\n",
    "    def __init__(self, hidden_size, output_size, dropout_p=0.1, max_length=MAX_LENGTH, layers=1):\n",
    "        super(AttnDecoderRNN, self).__init__()\n",
    "        self.hidden_size = hidden_size\n",
    "        self.output_size = output_size\n",
    "        self.dropout_p = dropout_p\n",
    "        self.max_length = max_length\n",
    "        self.layers = layers\n",
    "\n",
    "        self.embedding = nn.Embedding(self.output_size, self.hidden_size)\n",
    "        self.attn = nn.Linear(self.hidden_size * 2, self.max_length)\n",
    "        self.attn_combine = nn.Linear(self.hidden_size * 2, self.hidden_size)\n",
    "        self.dropout = nn.Dropout(self.dropout_p)\n",
    "        self.lstm = nn.LSTM(self.hidden_size, self.hidden_size, self.layers)\n",
    "        self.out = nn.Linear(self.hidden_size, self.output_size)\n",
    "\n",
    "    def forward(self, input, hidden, encoder_outputs):\n",
    "        embedded = self.embedding(input).view(1, 1, -1)\n",
    "        embedded = self.dropout(embedded)\n",
    "\n",
    "        #print(\"d0\", embedded.shape)\n",
    "        # print(\"d1\", embedded[0].shape)\n",
    "        # print(\"d2----\", hidden[0][0].shape)\n",
    "        #\n",
    "        # m = torch.cat((embedded[0], hidden[0][0]), 1)\n",
    "        # print(\"d3\", m.shape)\n",
    "        # r = self.attn(m)\n",
    "\n",
    "        attn_weights = F.softmax(\n",
    "            self.attn(torch.cat((embedded[0], hidden[0][0]), 1)), dim=1)\n",
    "\n",
    "        # print(\"d4\", attn_weights.shape)\n",
    "        # print(\"d5\", encoder_outputs.unsqueeze(0).shape)\n",
    "\n",
    "        attn_applied = torch.bmm(attn_weights.unsqueeze(0),\n",
    "                                 encoder_outputs.unsqueeze(0))\n",
    "\n",
    "        output = torch.cat((embedded[0], attn_applied[0]), 1)\n",
    "        output = self.attn_combine(output).unsqueeze(0)\n",
    "\n",
    "        output = F.relu(output)\n",
    "\n",
    "        output, hidden = self.lstm(output, hidden)\n",
    "\n",
    "        output = F.log_softmax(self.out(output[0]), dim=1)\n",
    "        return output, hidden, attn_weights\n",
    "\n",
    "    def initHidden(self):\n",
    "        return torch.zeros(self.layers, 1, self.hidden_size, device=device), torch.zeros(self.layers, 1, self.hidden_size, device=device)"
   ]
  },
  {
   "cell_type": "markdown",
   "metadata": {
    "papermill": {
     "duration": 0.039931,
     "end_time": "2021-03-30T10:22:09.407108",
     "exception": false,
     "start_time": "2021-03-30T10:22:09.367177",
     "status": "completed"
    },
    "tags": []
   },
   "source": [
    "### Training utility\n",
    "\n",
    "To train we run the input sentence through the encoder, and keep track of every output and the latest hidden state. Then the decoder is given the <SOS> token as its first input, and the last hidden state of the encoder as its first hidden state."
   ]
  },
  {
   "cell_type": "code",
   "execution_count": 18,
   "metadata": {
    "execution": {
     "iopub.execute_input": "2021-03-30T10:22:09.500084Z",
     "iopub.status.busy": "2021-03-30T10:22:09.499270Z",
     "iopub.status.idle": "2021-03-30T10:22:09.506240Z",
     "shell.execute_reply": "2021-03-30T10:22:09.506852Z"
    },
    "papermill": {
     "duration": 0.056932,
     "end_time": "2021-03-30T10:22:09.507053",
     "exception": false,
     "start_time": "2021-03-30T10:22:09.450121",
     "status": "completed"
    },
    "tags": []
   },
   "outputs": [],
   "source": [
    "def train(input_tensor, target_tensor, encoder, decoder, encoder_optimizer, decoder_optimizer, criterion, max_length=MAX_LENGTH):\n",
    "    encoder_hidden = encoder.initHidden()\n",
    "\n",
    "    encoder_optimizer.zero_grad()\n",
    "    decoder_optimizer.zero_grad()\n",
    "\n",
    "    input_length = input_tensor.size(0)\n",
    "    target_length = target_tensor.size(0)\n",
    "\n",
    "    encoder_outputs = torch.zeros(max_length, encoder.hidden_size, device=device)\n",
    "\n",
    "    loss = 0\n",
    "\n",
    "    for ei in range(input_length):\n",
    "        encoder_output, encoder_hidden = encoder(\n",
    "            input_tensor[ei], encoder_hidden)\n",
    "        encoder_outputs[ei] = encoder_output[0, 0]\n",
    "\n",
    "    decoder_input = torch.tensor([[SOS_token]], device=device)\n",
    "\n",
    "    decoder_hidden = encoder_hidden\n",
    "\n",
    "    use_teacher_forcing = True if random.random() < teacher_forcing_ratio else False\n",
    "\n",
    "    if use_teacher_forcing:\n",
    "        # Teacher forcing: Feed the target as the next input\n",
    "        for di in range(target_length):\n",
    "            decoder_output, decoder_hidden, decoder_attention = decoder(\n",
    "                decoder_input, decoder_hidden, encoder_outputs)\n",
    "            loss += criterion(decoder_output, target_tensor[di])\n",
    "            decoder_input = target_tensor[di]  # Teacher forcing\n",
    "\n",
    "    else:\n",
    "        # Without teacher forcing: use its own predictions as the next input\n",
    "        for di in range(target_length):\n",
    "            decoder_output, decoder_hidden, decoder_attention = decoder(\n",
    "                decoder_input, decoder_hidden, encoder_outputs)\n",
    "            topv, topi = decoder_output.topk(1)\n",
    "            decoder_input = topi.squeeze().detach()  # detach from history as input\n",
    "\n",
    "            loss += criterion(decoder_output, target_tensor[di])\n",
    "            if decoder_input.item() == EOS_token:\n",
    "                break\n",
    "\n",
    "    loss.backward()\n",
    "\n",
    "    encoder_optimizer.step()\n",
    "    decoder_optimizer.step()\n",
    "\n",
    "    return loss.item() / target_length"
   ]
  },
  {
   "cell_type": "markdown",
   "metadata": {
    "papermill": {
     "duration": 0.034097,
     "end_time": "2021-03-30T10:22:09.580614",
     "exception": false,
     "start_time": "2021-03-30T10:22:09.546517",
     "status": "completed"
    },
    "tags": []
   },
   "source": [
    "The whole training process will go like this:\n",
    "\n",
    "- Start a timer\n",
    "- Initialize optimizers and criterion\n",
    "- Create set of training pairs\n",
    "- Start empty losses array for plotting\n",
    "\n",
    "Then we call train many times and occasionally print the progress (% of examples, time so far, estimated time) and average loss."
   ]
  },
  {
   "cell_type": "code",
   "execution_count": 19,
   "metadata": {},
   "outputs": [
    {
     "name": "stdout",
     "output_type": "stream",
     "text": [
      "seq_results\\plot_losses.pkl\n"
     ]
    }
   ],
   "source": [
    "TRAIN = False\n",
    "PLOT_LOSSES_PATH = os.path.join(SEQ_RESULTS_BASE_PATH, \"plot_losses.pkl\")\n",
    "print(PLOT_LOSSES_PATH)"
   ]
  },
  {
   "cell_type": "code",
   "execution_count": 20,
   "metadata": {},
   "outputs": [],
   "source": [
    "def asMinutes(s):\n",
    "    m = math.floor(s / 60)\n",
    "    s -= m * 60\n",
    "    return '%dm %ds' % (m, s)\n",
    "\n",
    "def timeSince(since, percent):\n",
    "    now = time.time()\n",
    "    s = now - since\n",
    "    es = s / (percent)\n",
    "    rs = es - s\n",
    "    return '%s (- %s)' % (asMinutes(s), asMinutes(rs))"
   ]
  },
  {
   "cell_type": "code",
   "execution_count": 21,
   "metadata": {
    "execution": {
     "iopub.execute_input": "2021-03-30T10:22:09.640641Z",
     "iopub.status.busy": "2021-03-30T10:22:09.639914Z",
     "iopub.status.idle": "2021-03-30T10:22:09.643381Z",
     "shell.execute_reply": "2021-03-30T10:22:09.642790Z"
    },
    "papermill": {
     "duration": 0.037142,
     "end_time": "2021-03-30T10:22:09.643500",
     "exception": false,
     "start_time": "2021-03-30T10:22:09.606358",
     "status": "completed"
    },
    "tags": []
   },
   "outputs": [],
   "source": [
    "def trainIters(encoder, decoder, n_iters, print_every=1000, plot_every=100, learning_rate=0.01):\n",
    "    start = time.time()\n",
    "    plot_losses = []\n",
    "    print_loss_total = 0  # Reset every print_every\n",
    "    plot_loss_total = 0  # Reset every plot_every\n",
    "\n",
    "    encoder_optimizer = optim.SGD(encoder.parameters(), lr=learning_rate)\n",
    "    decoder_optimizer = optim.SGD(decoder.parameters(), lr=learning_rate)\n",
    "    training_pairs = [tensorsFromPair(random.choice(pairs))\n",
    "                      for i in range(n_iters)]\n",
    "    criterion = nn.NLLLoss()\n",
    "\n",
    "    for iter in range(1, n_iters + 1):\n",
    "        training_pair = training_pairs[iter - 1]\n",
    "        input_tensor = training_pair[0]\n",
    "        target_tensor = training_pair[1]\n",
    "\n",
    "        loss = train(input_tensor, target_tensor, encoder,\n",
    "                     decoder, encoder_optimizer, decoder_optimizer, criterion)\n",
    "        print_loss_total += loss\n",
    "        plot_loss_total += loss\n",
    "\n",
    "        if iter % print_every == 0:\n",
    "            print_loss_avg = print_loss_total / print_every\n",
    "            print_loss_total = 0\n",
    "            print('%s (%d %d%%) %.4f' % (timeSince(start, iter / n_iters),\n",
    "                                         iter, iter / n_iters * 100, print_loss_avg))\n",
    "\n",
    "        if iter % plot_every == 0:\n",
    "            plot_loss_avg = plot_loss_total / plot_every\n",
    "            plot_losses.append(plot_loss_avg)\n",
    "            plot_loss_total = 0\n",
    "\n",
    "    return plot_losses"
   ]
  },
  {
   "cell_type": "markdown",
   "metadata": {
    "papermill": {
     "duration": 0.025237,
     "end_time": "2021-03-30T10:22:09.693692",
     "exception": false,
     "start_time": "2021-03-30T10:22:09.668455",
     "status": "completed"
    },
    "tags": []
   },
   "source": [
    "### Evaluation Utility\n",
    "\n",
    "Evaluation is mostly the same as training, but there are no targets so we simply feed the decoder’s predictions back to itself for each step. Every time it predicts a word we add it to the output string, and if it predicts the EOS token we stop there. We also store the decoder’s attention outputs for display later."
   ]
  },
  {
   "cell_type": "code",
   "execution_count": 22,
   "metadata": {
    "execution": {
     "iopub.execute_input": "2021-03-30T10:22:09.755474Z",
     "iopub.status.busy": "2021-03-30T10:22:09.754579Z",
     "iopub.status.idle": "2021-03-30T10:22:09.757342Z",
     "shell.execute_reply": "2021-03-30T10:22:09.756825Z"
    },
    "papermill": {
     "duration": 0.038848,
     "end_time": "2021-03-30T10:22:09.757451",
     "exception": false,
     "start_time": "2021-03-30T10:22:09.718603",
     "status": "completed"
    },
    "tags": []
   },
   "outputs": [],
   "source": [
    "def evaluate(encoder, decoder, sentence, max_length=MAX_LENGTH):\n",
    "    with torch.no_grad():\n",
    "        input_tensor = tensorFromSentence(input_lang, sentence)\n",
    "        input_length = input_tensor.size()[0]\n",
    "        encoder_hidden = encoder.initHidden()\n",
    "\n",
    "        encoder_outputs = torch.zeros(max_length, encoder.hidden_size, device=device)\n",
    "\n",
    "        for ei in range(input_length):\n",
    "            encoder_output, encoder_hidden = encoder(input_tensor[ei],\n",
    "                                                     encoder_hidden)\n",
    "            encoder_outputs[ei] += encoder_output[0, 0]\n",
    "\n",
    "        decoder_input = torch.tensor([[SOS_token]], device=device)  # SOS\n",
    "\n",
    "        decoder_hidden = encoder_hidden\n",
    "\n",
    "        decoded_words = []\n",
    "        decoder_attentions = torch.zeros(max_length, max_length)\n",
    "\n",
    "        for di in range(max_length):\n",
    "            decoder_output, decoder_hidden, decoder_attention = decoder(\n",
    "                decoder_input, decoder_hidden, encoder_outputs)\n",
    "            decoder_attentions[di] = decoder_attention.data\n",
    "            topv, topi = decoder_output.data.topk(1)\n",
    "            if topi.item() == EOS_token:\n",
    "                decoded_words.append('<EOS>')\n",
    "                break\n",
    "            else:\n",
    "                decoded_words.append(output_lang.index2word[topi.item()])\n",
    "\n",
    "            decoder_input = topi.squeeze().detach()\n",
    "\n",
    "        return decoded_words, decoder_attentions[:di + 1]"
   ]
  },
  {
   "cell_type": "markdown",
   "metadata": {
    "papermill": {
     "duration": 0.025992,
     "end_time": "2021-03-30T10:22:09.809312",
     "exception": false,
     "start_time": "2021-03-30T10:22:09.783320",
     "status": "completed"
    },
    "tags": []
   },
   "source": [
    "### Visualization Utility\n",
    "\n",
    "Plotting is done with matplotlib, using the array of loss values plot_losses saved while training.\n",
    "\n",
    "We can also plot the attention because it has highly interpretable outputs. It is used to weight specific encoder outputs of the input sequence, we can imagine looking where the network is focused most at each time step."
   ]
  },
  {
   "cell_type": "code",
   "execution_count": 23,
   "metadata": {
    "execution": {
     "iopub.execute_input": "2021-03-30T10:22:09.873529Z",
     "iopub.status.busy": "2021-03-30T10:22:09.872615Z",
     "iopub.status.idle": "2021-03-30T10:22:09.874844Z",
     "shell.execute_reply": "2021-03-30T10:22:09.875257Z"
    },
    "papermill": {
     "duration": 0.038674,
     "end_time": "2021-03-30T10:22:09.875390",
     "exception": false,
     "start_time": "2021-03-30T10:22:09.836716",
     "status": "completed"
    },
    "tags": []
   },
   "outputs": [],
   "source": [
    "def showPlot(points):\n",
    "    #print(\"function called\")\n",
    "    plt.figure()\n",
    "    fig, ax = plt.subplots()\n",
    "    # this locator puts ticks at regular intervals\n",
    "    loc = ticker.MultipleLocator(base=0.2)\n",
    "    ax.yaxis.set_major_locator(loc)\n",
    "    plt.plot(points)\n",
    "    plt.xlabel(\"steps\")\n",
    "    plt.ylabel(\"loss\")\n",
    "    plt.show()\n",
    "    fig.savefig(os.path.join(SEQ_RESULTS_BASE_PATH,'loss.png'))"
   ]
  },
  {
   "cell_type": "markdown",
   "metadata": {
    "papermill": {
     "duration": 0.025308,
     "end_time": "2021-03-30T10:22:09.925834",
     "exception": false,
     "start_time": "2021-03-30T10:22:09.900526",
     "status": "completed"
    },
    "tags": []
   },
   "source": [
    "Some helper functions to print time elapsed and estimated time remaining given the current time and progress %."
   ]
  },
  {
   "cell_type": "code",
   "execution_count": 24,
   "metadata": {
    "execution": {
     "iopub.execute_input": "2021-03-30T10:22:09.984378Z",
     "iopub.status.busy": "2021-03-30T10:22:09.983628Z",
     "iopub.status.idle": "2021-03-30T10:22:09.986089Z",
     "shell.execute_reply": "2021-03-30T10:22:09.986569Z"
    },
    "papermill": {
     "duration": 0.03511,
     "end_time": "2021-03-30T10:22:09.986700",
     "exception": false,
     "start_time": "2021-03-30T10:22:09.951590",
     "status": "completed"
    },
    "tags": []
   },
   "outputs": [],
   "source": [
    "def count_parameters(model):\n",
    "    table = PrettyTable([\"Modules\", \"Parameters\"])\n",
    "    total_params = 0\n",
    "    for name, parameter in model.named_parameters():\n",
    "        if not parameter.requires_grad: continue\n",
    "        param = parameter.numel()\n",
    "        table.add_row([name, param])\n",
    "        total_params+=param\n",
    "    print(table)\n",
    "    print(f\"Total Trainable Params: {total_params}\")\n",
    "    return total_params"
   ]
  },
  {
   "cell_type": "markdown",
   "metadata": {
    "papermill": {
     "duration": 0.024978,
     "end_time": "2021-03-30T10:22:10.036953",
     "exception": false,
     "start_time": "2021-03-30T10:22:10.011975",
     "status": "completed"
    },
    "tags": []
   },
   "source": [
    "### Finally, a wrapper function to run the experiment."
   ]
  },
  {
   "cell_type": "code",
   "execution_count": 25,
   "metadata": {
    "execution": {
     "iopub.execute_input": "2021-03-30T10:22:10.094309Z",
     "iopub.status.busy": "2021-03-30T10:22:10.093561Z",
     "iopub.status.idle": "2021-03-30T10:22:10.096071Z",
     "shell.execute_reply": "2021-03-30T10:22:10.096475Z"
    },
    "papermill": {
     "duration": 0.03413,
     "end_time": "2021-03-30T10:22:10.096617",
     "exception": false,
     "start_time": "2021-03-30T10:22:10.062487",
     "status": "completed"
    },
    "tags": []
   },
   "outputs": [],
   "source": [
    "def run_training():\n",
    "    print(\"========== Building Encoder... ==========\\n\")\n",
    "    encoder1 = EncoderRNN(input_lang.n_words, hidden_size, layers=1).to(device)\n",
    "    print(encoder1)\n",
    "    print('\\n')\n",
    "    eparam = count_parameters(encoder1)\n",
    "\n",
    "    print('\\n')\n",
    "    print(\"========== Building Decoder... ==========\\n\")\n",
    "    attn_decoder1 = AttnDecoderRNN(hidden_size, output_lang.n_words, dropout_p=0.1, layers=1).to(device)\n",
    "    print(attn_decoder1)\n",
    "    print('\\n')\n",
    "\n",
    "    dparam = count_parameters(attn_decoder1)\n",
    "    print(\"\\nTotal parameters in encoder + decoder : \", eparam+dparam)\n",
    "    print('\\n')\n",
    "    print(\"========== Starting Training... ==========\\n\")\n",
    "\n",
    "    plot_losses = trainIters(encoder1, attn_decoder1, 50000, print_every=1000)\n",
    "    print(\"========== Finished Training... ==========\\n\")\n",
    "\n",
    "    return encoder1, attn_decoder1, plot_losses"
   ]
  },
  {
   "cell_type": "code",
   "execution_count": 26,
   "metadata": {},
   "outputs": [],
   "source": [
    "ENCODER_PATH = os.path.join(SEQ_RESULTS_BASE_PATH, \"encoder1.pth\")\n",
    "ATTENTION_DECODER_PATH = os.path.join(SEQ_RESULTS_BASE_PATH, \"attn_decoder1.pth\")"
   ]
  },
  {
   "cell_type": "code",
   "execution_count": 27,
   "metadata": {
    "execution": {
     "iopub.execute_input": "2021-03-30T10:22:10.153051Z",
     "iopub.status.busy": "2021-03-30T10:22:10.152508Z",
     "iopub.status.idle": "2021-03-30T10:41:18.064448Z",
     "shell.execute_reply": "2021-03-30T10:41:18.064944Z"
    },
    "papermill": {
     "duration": 1147.942322,
     "end_time": "2021-03-30T10:41:18.065122",
     "exception": false,
     "start_time": "2021-03-30T10:22:10.122800",
     "status": "completed"
    },
    "tags": []
   },
   "outputs": [
    {
     "name": "stdout",
     "output_type": "stream",
     "text": [
      "NOT RUNNING ON TRAINING MODE!!\n"
     ]
    },
    {
     "data": {
      "text/plain": [
       "<Figure size 640x480 with 0 Axes>"
      ]
     },
     "metadata": {},
     "output_type": "display_data"
    },
    {
     "data": {
      "image/png": "[encoded data removed]",
      "text/plain": [
       "<Figure size 640x480 with 1 Axes>"
      ]
     },
     "metadata": {},
     "output_type": "display_data"
    }
   ],
   "source": [
    "if TRAIN:\n",
    "    print(\"RUNNING ON TRAINING MODE!!\")\n",
    "    encoder1, attn_decoder1, plot_losses = run_training()\n",
    "    # Save the models\n",
    "    torch.save(encoder1.state_dict(), ENCODER_PATH)\n",
    "    torch.save(attn_decoder1.state_dict(), ATTENTION_DECODER_PATH)\n",
    "\n",
    "    if not os.path.exists(PLOT_LOSSES_PATH):\n",
    "        pickle.dump(plot_losses, open(PLOT_LOSSES_PATH, 'wb'))\n",
    "\n",
    "else:\n",
    "    print(\"NOT RUNNING ON TRAINING MODE!!\")\n",
    "    # Load the models\n",
    "    encoder1 = EncoderRNN(input_lang.n_words, hidden_size, layers=1).to(device)\n",
    "    encoder1.load_state_dict(torch.load(ENCODER_PATH))\n",
    "\n",
    "    attn_decoder1 = AttnDecoderRNN(hidden_size, output_lang.n_words, dropout_p=0.1, layers=1).to(device)\n",
    "    attn_decoder1.load_state_dict(torch.load(ATTENTION_DECODER_PATH))\n",
    "\n",
    "    with open(PLOT_LOSSES_PATH, 'rb') as f:\n",
    "        plot_losses = pickle.load(f)\n",
    "\n",
    "showPlot(plot_losses)"
   ]
  },
  {
   "cell_type": "code",
   "execution_count": 28,
   "metadata": {},
   "outputs": [
    {
     "name": "stdout",
     "output_type": "stream",
     "text": [
      "English Sentence: Tom is one of my friends\n",
      "Translation Results: Tom adalah salah satu temanku.\n",
      "English Sentence: I don't expect you to be Tom's friend either\n",
      "Translation Results: Aku tidak akan Tom merasa ingin kamu Tom.\n",
      "English Sentence: I'm not the only one here who thinks Tom is a nice guy\n",
      "Translation Results: Tom adalah satu-satunya orang yang orang yang baik.\n",
      "English Sentence: If Tom would smile more often, he'd probably have more friends\n",
      "Translation Results: Jika Tom lebih sering mungkin mungkin akan mungkin lebih lebih banyak lagi.\n",
      "\n",
      "Complete English Sentence: Tom is one of my friends. I don't expect you to be Tom's friend either. I'm not the only one here who thinks Tom is a nice guy. If Tom would smile more often, he'd probably have more friends. \n",
      "Complete Translation: Tom adalah salah satu temanku. Aku tidak akan Tom merasa ingin kamu Tom. Tom adalah satu-satunya orang yang orang yang baik. Jika Tom lebih sering mungkin mungkin akan mungkin lebih lebih banyak lagi.\n",
      "\n",
      "English Sentence: I want to tell you something, but it's a secret\n",
      "Translation Results: Aku ingin mengatakan tapi tapi tapi ini rahasia.\n",
      "English Sentence: Promise not to tell\n",
      "Translation Results: Tidak ada yang ingin kamu\n",
      "English Sentence: I got my driver's license on the second time I tried to pass the driver's test\n",
      "Translation Results: Aku mendapatkan SIM-ku pada pada kedua pada kali kedua aku menjalani tes mengemudi.\n",
      "English Sentence: I don't think I can get you to understand how easy to get driver's license\n",
      "Translation Results: Aku tidak bisa bisa bisa bisa bisa bisa bisa memahami\n",
      "English Sentence: When I'm good at driving, I'll teach you\n",
      "Translation Results: Aku akan membuatkanmu saat pada pukul\n",
      "\n",
      "Complete English Sentence: I want to tell you something, but it's a secret. Promise not to tell. I got my driver's license on the second time I tried to pass the driver's test. I don't think I can get you to understand how easy to get driver's license. When I'm good at driving, I'll teach you. \n",
      "Complete Translation: Aku ingin mengatakan tapi tapi tapi ini rahasia. Tidak ada yang ingin kamu Aku mendapatkan SIM-ku pada pada kedua pada kali kedua aku menjalani tes mengemudi. Aku tidak bisa bisa bisa bisa bisa bisa bisa memahami Aku akan membuatkanmu saat pada pukul\n",
      "\n"
     ]
    },
    {
     "ename": "IndexError",
     "evalue": "index 20 is out of bounds for dimension 0 with size 20",
     "output_type": "error",
     "traceback": [
      "\u001b[1;31m---------------------------------------------------------------------------\u001b[0m",
      "\u001b[1;31mIndexError\u001b[0m                                Traceback (most recent call last)",
      "Cell \u001b[1;32mIn[28], line 13\u001b[0m\n\u001b[0;32m     11\u001b[0m \u001b[39mif\u001b[39;00m \u001b[39mlen\u001b[39m(sentence) \u001b[39m>\u001b[39m \u001b[39m1\u001b[39m:\n\u001b[0;32m     12\u001b[0m     sentence \u001b[39m=\u001b[39m sentence\u001b[39m.\u001b[39mstrip()\n\u001b[1;32m---> 13\u001b[0m     output_words, _ \u001b[39m=\u001b[39m evaluate(encoder1, attn_decoder1, sentence)\n\u001b[0;32m     14\u001b[0m     translation_results \u001b[39m=\u001b[39m \u001b[39m\"\u001b[39m\u001b[39m \u001b[39m\u001b[39m\"\u001b[39m\u001b[39m.\u001b[39mjoin(output_words)\u001b[39m.\u001b[39msplit(\u001b[39m\"\u001b[39m\u001b[39m<EOS>\u001b[39m\u001b[39m\"\u001b[39m)[\u001b[39m0\u001b[39m]\u001b[39m.\u001b[39mstrip()\n\u001b[0;32m     15\u001b[0m     complete_translation_results\u001b[39m+\u001b[39m\u001b[39m=\u001b[39mtranslation_results\u001b[39m+\u001b[39m\u001b[39m\"\u001b[39m\u001b[39m \u001b[39m\u001b[39m\"\u001b[39m\n",
      "Cell \u001b[1;32mIn[22], line 12\u001b[0m, in \u001b[0;36mevaluate\u001b[1;34m(encoder, decoder, sentence, max_length)\u001b[0m\n\u001b[0;32m      9\u001b[0m \u001b[39mfor\u001b[39;00m ei \u001b[39min\u001b[39;00m \u001b[39mrange\u001b[39m(input_length):\n\u001b[0;32m     10\u001b[0m     encoder_output, encoder_hidden \u001b[39m=\u001b[39m encoder(input_tensor[ei],\n\u001b[0;32m     11\u001b[0m                                              encoder_hidden)\n\u001b[1;32m---> 12\u001b[0m     encoder_outputs[ei] \u001b[39m+\u001b[39m\u001b[39m=\u001b[39m encoder_output[\u001b[39m0\u001b[39m, \u001b[39m0\u001b[39m]\n\u001b[0;32m     14\u001b[0m decoder_input \u001b[39m=\u001b[39m torch\u001b[39m.\u001b[39mtensor([[SOS_token]], device\u001b[39m=\u001b[39mdevice)  \u001b[39m# SOS\u001b[39;00m\n\u001b[0;32m     16\u001b[0m decoder_hidden \u001b[39m=\u001b[39m encoder_hidden\n",
      "\u001b[1;31mIndexError\u001b[0m: index 20 is out of bounds for dimension 0 with size 20"
     ]
    }
   ],
   "source": [
    "import re\n",
    "\n",
    "with open(\"test_cases.txt\", \"r\") as myfile:\n",
    "    data = myfile.read().splitlines()\n",
    "\n",
    "# Remove leading numbers followed by a period from each line\n",
    "cleaned_data = [re.sub(r'^\\d+\\.\\s*', '', line) for line in data]\n",
    "for paragraph in cleaned_data:\n",
    "    complete_translation_results = \"\"\n",
    "    for sentence in paragraph.split(\".\"):\n",
    "        if len(sentence) > 1:\n",
    "            sentence = sentence.strip()\n",
    "            output_words, _ = evaluate(encoder1, attn_decoder1, sentence)\n",
    "            translation_results = \" \".join(output_words).split(\"<EOS>\")[0].strip()\n",
    "            complete_translation_results+=translation_results+\" \"\n",
    "            print(f\"English Sentence: {sentence}\")\n",
    "            print(f\"Translation Results: {translation_results}\")\n",
    "\n",
    "    if len(complete_translation_results) > 0:\n",
    "        print(f\"\\nComplete English Sentence: {paragraph} \")\n",
    "        print(f\"Complete Translation: {complete_translation_results[:-1]}\\n\")"
   ]
  },
  {
   "cell_type": "code",
   "execution_count": null,
   "metadata": {
    "execution": {
     "iopub.execute_input": "2021-03-30T10:41:18.500569Z",
     "iopub.status.busy": "2021-03-30T10:41:18.499951Z",
     "iopub.status.idle": "2021-03-30T10:41:18.511071Z",
     "shell.execute_reply": "2021-03-30T10:41:18.511458Z"
    },
    "papermill": {
     "duration": 0.055561,
     "end_time": "2021-03-30T10:41:18.511603",
     "exception": false,
     "start_time": "2021-03-30T10:41:18.456042",
     "status": "completed"
    },
    "tags": []
   },
   "outputs": [
    {
     "ename": "NameError",
     "evalue": "name 'evaluate' is not defined",
     "output_type": "error",
     "traceback": [
      "\u001b[1;31m---------------------------------------------------------------------------\u001b[0m",
      "\u001b[1;31mNameError\u001b[0m                                 Traceback (most recent call last)",
      "Cell \u001b[1;32mIn[1], line 1\u001b[0m\n\u001b[1;32m----> 1\u001b[0m output_words, attentions \u001b[39m=\u001b[39m evaluate(\n\u001b[0;32m      2\u001b[0m         encoder1, attn_decoder1, \u001b[39m\"\u001b[39m\u001b[39mWe are God\u001b[39m\u001b[39m'\u001b[39m\u001b[39ms renewal agents in all aspects of lives. Our being, thinking, and doing will bring glory to God and God\u001b[39m\u001b[39m'\u001b[39m\u001b[39ms shalom to the people around us.\u001b[39m\u001b[39m\"\u001b[39m)\n\u001b[0;32m      3\u001b[0m \u001b[39mprint\u001b[39m(\u001b[39m\"\u001b[39m\u001b[39m \u001b[39m\u001b[39m\"\u001b[39m\u001b[39m.\u001b[39mjoin(output_words))\n",
      "\u001b[1;31mNameError\u001b[0m: name 'evaluate' is not defined"
     ]
    }
   ],
   "source": [
    "output_words, attentions = evaluate(\n",
    "        encoder1, attn_decoder1, \"We are God's renewal agents in all aspects of lives. Our being, thinking, and doing will bring glory to God and God's shalom to the people around us.\")\n",
    "print(\" \".join(output_words))"
   ]
  }
 ],
 "metadata": {
  "kernelspec": {
   "display_name": "Python 3.10.14 ('uas-nlp-torch')",
   "language": "python",
   "name": "python3"
  },
  "language_info": {
   "codemirror_mode": {
    "name": "ipython",
    "version": 3
   },
   "file_extension": ".py",
   "mimetype": "text/x-python",
   "name": "python",
   "nbconvert_exporter": "python",
   "pygments_lexer": "ipython3",
   "version": "3.10.14"
  },
  "papermill": {
   "default_parameters": {},
   "duration": 1162.499003,
   "end_time": "2021-03-30T10:41:21.854499",
   "environment_variables": {},
   "exception": null,
   "input_path": "__notebook__.ipynb",
   "output_path": "__notebook__.ipynb",
   "parameters": {},
   "start_time": "2021-03-30T10:21:59.355496",
   "version": "2.2.2"
  },
  "vscode": {
   "interpreter": {
    "hash": "c3adc0486dcd807c46b65bc5c1d74b70fc20571f30c303aa4103f6d2a4f796df"
   }
  }
 },
 "nbformat": 4,
 "nbformat_minor": 4
}
